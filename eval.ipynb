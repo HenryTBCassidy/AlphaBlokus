{
 "cells": [
  {
   "cell_type": "markdown",
   "id": "802d4895-07c7-48b0-9039-d189f3941639",
   "metadata": {},
   "source": [
    "## Pieces"
   ]
  },
  {
   "cell_type": "code",
   "execution_count": 1,
   "id": "b043dcb2-6ac0-4258-aeeb-7678ebe25cbc",
   "metadata": {},
   "outputs": [
    {
     "name": "stdout",
     "output_type": "stream",
     "text": [
      "CPU times: total: 297 ms\n",
      "Wall time: 272 ms\n"
     ]
    }
   ],
   "source": [
    "%%time\n",
    "from pathlib import Path\n",
    "from blokusduo.pieces import Piece, Orientation, pieces_loader\n",
    "import json\n",
    "from dataclass_wizard import fromdict\n",
    "import numpy as np\n",
    "from blokusduo.game import CoordinateIndexDecoder\n",
    "\n",
    "f = Path(\"blokusduo\") / \"pieces.json\"\n",
    "piece_manager = pieces_loader(f)"
   ]
  },
  {
   "cell_type": "code",
   "execution_count": null,
   "id": "a55bf60c-bb2b-428b-b4c7-caaeab50bc83",
   "metadata": {},
   "outputs": [],
   "source": [
    "# For each piece, get all the basis_orientations. \n",
    "# For each piece-bo combo, see how many different x, y coordinates there are for the top left corner\n",
    "# Such that there is a 1 on the start piece."
   ]
  },
  {
   "cell_type": "code",
   "execution_count": null,
   "id": "6bbc1838-9778-4e47-8c24-652b86ceba16",
   "metadata": {},
   "outputs": [],
   "source": [
    "n=14\n",
    "board = np.zeros(n ** 2, dtype=int).reshape(n, n)\n",
    "\n",
    "black_start = (4, 4)\n",
    "white_start = (9, 9)\n",
    "board[white_start] = 1\n",
    "board[black_start] = -1\n",
    "board"
   ]
  },
  {
   "cell_type": "code",
   "execution_count": null,
   "id": "c9d203cd-7619-42d0-8880-e7aff7053d9e",
   "metadata": {},
   "outputs": [],
   "source": [
    "def try_fit_onto_start_corner(piece_id, piece, board, start) -> tuple[int, Orientation, int, int]:\n",
    "    # Think about this as iterating over the piece, moving the board the other way\n",
    "    # Want to return actions\n",
    "    length, width = piece.shape\n",
    "    solutions = []\n",
    "    for i in range(length):\n",
    "        for j in range(width):\n",
    "            if piece[(i, j)] ==1:\n",
    "                solutions.append((start[0] - i, start[1] - j)) \n",
    "            \n",
    "    print(solutions)"
   ]
  },
  {
   "cell_type": "code",
   "execution_count": null,
   "id": "4be4c60e-28d7-40ef-9ad9-a5b9f71f6b2d",
   "metadata": {},
   "outputs": [],
   "source": [
    "for k, v in piece_manager.pieces.items():\n",
    "    for o in v.basis_orientations:\n",
    "        print(k, o)\n",
    "        try_fit_onto_start_corner(k, o, board, white_start)\n",
    "    if k> 5:\n",
    "        break"
   ]
  },
  {
   "cell_type": "code",
   "execution_count": null,
   "id": "a5d2f1b6-aca4-4c0b-aeac-569324a09272",
   "metadata": {},
   "outputs": [],
   "source": [
    "for thing in piece_manager.all_basis_orientations_arrays_for_piece(21):\n",
    "    print(thing)"
   ]
  },
  {
   "cell_type": "code",
   "execution_count": null,
   "id": "dc6ca513-79ac-49db-99de-a63c0c982e3a",
   "metadata": {},
   "outputs": [],
   "source": [
    "for k, v in piece_manager.pieces.items():\n",
    "    print(k, v)\n",
    "    break"
   ]
  },
  {
   "cell_type": "code",
   "execution_count": null,
   "id": "1b61a0da-cacd-403b-a8f3-3b7d4f4b57d0",
   "metadata": {},
   "outputs": [],
   "source": [
    "n=14\n",
    "board = np.zeros(n ** 2, dtype=int).reshape(n, n)\n",
    "\n",
    "black_start = (4, 4)\n",
    "white_start = (9, 9)\n",
    "board[white_start] = 1\n",
    "board[black_start] = -1\n",
    "board"
   ]
  },
  {
   "cell_type": "code",
   "execution_count": null,
   "id": "6a5e6cf4-d080-46b3-8a96-08600075fb6a",
   "metadata": {},
   "outputs": [],
   "source": [
    "piece.basis_orientations"
   ]
  },
  {
   "cell_type": "code",
   "execution_count": null,
   "id": "2130672c-5640-4ddb-b562-a69d765a1888",
   "metadata": {},
   "outputs": [],
   "source": [
    "piece = piece_manager.pieces[4]"
   ]
  },
  {
   "cell_type": "code",
   "execution_count": null,
   "id": "243b7a36-8819-47a9-90eb-924300e209f6",
   "metadata": {},
   "outputs": [],
   "source": [
    "np.sum([ v.identity.sum() for k, v  in piece_manager.pieces.items()])"
   ]
  },
  {
   "cell_type": "code",
   "execution_count": null,
   "id": "c9d62256-5ea7-47df-8490-85f07bc3f9a8",
   "metadata": {},
   "outputs": [],
   "source": [
    "\n",
    "\n",
    "action = [14, \"Identity\", 9, 4]\n",
    "\n",
    "length_idx = n-1 - action[3]\n",
    "width_idx = action[2]\n",
    "\n",
    "piece_shape = piece_manager.get_piece_with_orientation(action[0], action[1])\n",
    "piece"
   ]
  },
  {
   "cell_type": "code",
   "execution_count": null,
   "id": "7bdec8f0-7896-43bb-b94b-e1c487bf11de",
   "metadata": {},
   "outputs": [],
   "source": [
    "length, width = piece_shape.shape\n",
    "for i in range(length):\n",
    "    for j in range(width):\n",
    "        board[length_idx + i, width_idx + j] = piece_shape[i, j]\n",
    "\n",
    "board"
   ]
  },
  {
   "cell_type": "code",
   "execution_count": null,
   "id": "6e36a380-0a16-4fe6-a06c-f84c2163da1d",
   "metadata": {},
   "outputs": [],
   "source": [
    "board"
   ]
  },
  {
   "cell_type": "code",
   "execution_count": null,
   "id": "7582167d-c8ef-4da7-875e-4e73ffd0e589",
   "metadata": {},
   "outputs": [],
   "source": [
    "import numpy as np\n",
    "n = 14\n",
    "\n",
    "x, y = 4, 5\n",
    "\n",
    "\n",
    "board[(4, 4)] = -1\n",
    "board[(9, 9)] = 1\n",
    "\n",
    "board"
   ]
  },
  {
   "cell_type": "code",
   "execution_count": null,
   "id": "20baff7b-ef51-4731-8949-8242e7f898a5",
   "metadata": {},
   "outputs": [],
   "source": [
    "pi = np.random.rand(\n",
    "    14*14*91 + 1\n",
    ")\n",
    "\n",
    "moves = pi[:-1]\n",
    "\n",
    "moves.reshape((14, 14, 91))[:, :, 3].shape"
   ]
  },
  {
   "cell_type": "code",
   "execution_count": null,
   "id": "2d3f7b87-4d97-41c7-b3de-8524fb32eec3",
   "metadata": {},
   "outputs": [],
   "source": [
    "type([:, :, 3])"
   ]
  },
  {
   "cell_type": "code",
   "execution_count": null,
   "id": "9c62b3b6-3151-4dc2-a5c8-1bad5357d441",
   "metadata": {},
   "outputs": [],
   "source": [
    "action = 1, 3, 39\n",
    "\n",
    "type(action)"
   ]
  },
  {
   "cell_type": "code",
   "execution_count": null,
   "id": "68545b9c-9c7d-4aa1-a58c-cd7921c6579f",
   "metadata": {},
   "outputs": [],
   "source": [
    "pieces[0].identity.dtype"
   ]
  },
  {
   "cell_type": "code",
   "execution_count": null,
   "id": "b5868812-a830-436a-a3dd-966ca1f6fd68",
   "metadata": {},
   "outputs": [],
   "source": [
    "len(pieces)"
   ]
  },
  {
   "cell_type": "code",
   "execution_count": null,
   "id": "fa74e2ed-818e-47a5-862f-8f1330f77530",
   "metadata": {},
   "outputs": [],
   "source": [
    "from collections import deque\n",
    "\n",
    "d = deque()\n",
    "\n",
    "for p in pieces:\n",
    "    d.append(p)\n"
   ]
  },
  {
   "cell_type": "code",
   "execution_count": null,
   "id": "651763ce-7179-44ad-bebd-98229a4b28aa",
   "metadata": {},
   "outputs": [],
   "source": [
    "len(d)"
   ]
  },
  {
   "cell_type": "code",
   "execution_count": null,
   "id": "e5f51678-8f76-413d-ba15-1770e04d3feb",
   "metadata": {},
   "outputs": [],
   "source": [
    "d.popleft()"
   ]
  },
  {
   "cell_type": "code",
   "execution_count": null,
   "id": "c0bc2298-00af-4e0a-84f6-cb4716552fce",
   "metadata": {},
   "outputs": [],
   "source": [
    "import numpy as np\n",
    "\n",
    "bored = np.array([\n",
    "    [0, 0, 0, 0],\n",
    "    [0, -1, 0, 0],\n",
    "    [0, 0, 1, 0],\n",
    "    [0, 0, 0, 0],\n",
    "]\n",
    ")"
   ]
  },
  {
   "cell_type": "code",
   "execution_count": null,
   "id": "ba098df3-a17a-4e52-b64e-c55d42471996",
   "metadata": {},
   "outputs": [],
   "source": [
    "white_pieces = np.array([[1, 1, 1, 1]]).reshape(-1, 1)\n",
    "black_pieces = -1*np.array([[1, 1, 1, 1]]).reshape(-1, 1)"
   ]
  },
  {
   "cell_type": "code",
   "execution_count": null,
   "id": "3c16ee54-139a-4aef-a6be-b8a3dccf8a45",
   "metadata": {},
   "outputs": [],
   "source": [
    "np.zeros(2 * n).reshape(n, 2).dtype"
   ]
  },
  {
   "cell_type": "code",
   "execution_count": null,
   "id": "7a71445d-340b-4eda-9d04-3dcc0d935b14",
   "metadata": {},
   "outputs": [],
   "source": [
    "import numpy as np\n",
    "\n",
    "n = 14\n",
    "\n",
    "np.zeros(2 * n).astype(int).reshape(n, 2).dtype"
   ]
  },
  {
   "cell_type": "code",
   "execution_count": null,
   "id": "1bc29210-784b-4cb0-81d3-6f33bd2209a3",
   "metadata": {},
   "outputs": [],
   "source": [
    "res = np.concatenate((white_pieces, bored), axis=1)"
   ]
  },
  {
   "cell_type": "code",
   "execution_count": null,
   "id": "f0d6dd38-576e-4d99-ad6c-2c4000fba725",
   "metadata": {},
   "outputs": [],
   "source": [
    "res"
   ]
  },
  {
   "cell_type": "code",
   "execution_count": null,
   "id": "d8b25667-c1e7-442d-b6bc-b159a0633cff",
   "metadata": {},
   "outputs": [],
   "source": [
    "res.size"
   ]
  },
  {
   "cell_type": "code",
   "execution_count": null,
   "id": "f3c7b117-1ac9-457b-ba86-d112f8756fa4",
   "metadata": {},
   "outputs": [],
   "source": [
    "res[res == -1].size"
   ]
  },
  {
   "cell_type": "code",
   "execution_count": null,
   "id": "4ee0c48c-4a52-4975-b372-b768352150fa",
   "metadata": {},
   "outputs": [],
   "source": [
    "pieces[:10]"
   ]
  },
  {
   "cell_type": "code",
   "execution_count": null,
   "id": "dab0bbe7-04ef-43ac-9489-4344c1df7858",
   "metadata": {},
   "outputs": [],
   "source": [
    "np.concatenate((res, black_pieces), axis=1)"
   ]
  },
  {
   "cell_type": "code",
   "execution_count": null,
   "id": "4136266b-1ff6-41cb-9d59-e07bb605c493",
   "metadata": {},
   "outputs": [],
   "source": [
    "white_pieces.reshape(-1, 1)"
   ]
  },
  {
   "cell_type": "code",
   "execution_count": null,
   "id": "e7da1ebe-c361-426e-8d35-9a6f42b68d04",
   "metadata": {},
   "outputs": [],
   "source": [
    "bored"
   ]
  },
  {
   "cell_type": "code",
   "execution_count": null,
   "id": "5287e202-bdd4-4494-b5ab-2edd6092b431",
   "metadata": {},
   "outputs": [],
   "source": [
    "np.rot90(np.flip(bored, 1), 3)"
   ]
  },
  {
   "cell_type": "code",
   "execution_count": null,
   "id": "21c72a1e-3027-46a7-8d9c-e280d19c884c",
   "metadata": {},
   "outputs": [],
   "source": [
    "pieces[20].identity"
   ]
  },
  {
   "cell_type": "code",
   "execution_count": null,
   "id": "0abc9b66-60f9-456c-b727-9b5a9ca3e9ff",
   "metadata": {},
   "outputs": [],
   "source": [
    "pieces[20].rot90"
   ]
  },
  {
   "cell_type": "code",
   "execution_count": null,
   "id": "b7bd6f21-5989-45a8-bbc9-866b332d6c31",
   "metadata": {},
   "outputs": [],
   "source": [
    "pieces[0].identity.tobytes()"
   ]
  },
  {
   "cell_type": "code",
   "execution_count": null,
   "id": "01a66d9a-d77a-42d8-93d7-e0bbdbff107d",
   "metadata": {},
   "outputs": [],
   "source": [
    "from main import args"
   ]
  },
  {
   "cell_type": "code",
   "execution_count": null,
   "id": "f59b6f28-859e-4ba3-99b1-2420d5136b89",
   "metadata": {},
   "outputs": [],
   "source": [
    "# How to change args\n",
    "from main import args\n",
    "from dataclass_wizard import fromdict, asdict\n",
    "from core.config import RunConfig\n",
    "\n",
    "# d = asdict(args)\n",
    "# d[\"runName\"] = \"full_run_because_why_not_1\"\n",
    "# new_args = fromdict(RunConfig, d)"
   ]
  },
  {
   "cell_type": "code",
   "execution_count": null,
   "id": "233884fd-cc48-4e35-9b2d-90cdc78430c3",
   "metadata": {},
   "outputs": [],
   "source": [
    "action_size = 14, 14, 91\n",
    "action_size "
   ]
  },
  {
   "cell_type": "code",
   "execution_count": null,
   "id": "8b5f03e4-1985-4da4-bca2-1e1ad4e798ef",
   "metadata": {},
   "outputs": [],
   "source": [
    "14*14*91 + 1, 14*14*92"
   ]
  },
  {
   "cell_type": "code",
   "execution_count": null,
   "id": "0289fe6f-a27f-46de-a1fc-020d02672ab1",
   "metadata": {},
   "outputs": [],
   "source": [
    "import math\n",
    "\n",
    "math.prod(action_size)"
   ]
  },
  {
   "cell_type": "markdown",
   "id": "46a30175-4b2f-4844-86d3-02d09fcb5866",
   "metadata": {},
   "source": [
    "## Check Nets"
   ]
  },
  {
   "cell_type": "code",
   "execution_count": null,
   "id": "5894e5a5-6ba0-4f5a-90ca-01ca993b702c",
   "metadata": {},
   "outputs": [],
   "source": [
    "from core.config import NetConfig\n",
    "NetConfig?"
   ]
  },
  {
   "cell_type": "code",
   "execution_count": null,
   "id": "7a303dbc-4aea-4d97-8f3f-50a0a1fed823",
   "metadata": {},
   "outputs": [],
   "source": [
    "from blokusduo.neuralnets.net import AlphaBlokusDuo\n",
    "from tictactoe.neuralnets.net import AlphaTicTacToe\n",
    "from tictactoe.game import TicTacToeGame as game\n",
    "from core.config import NetConfig\n",
    "import torch \n",
    "from torchviz import make_dot\n",
    "\n",
    "cfg = NetConfig(0.001,0.3,10,32,True,512, 19)\n",
    "g = game(3)\n",
    "\n",
    "bd_net = AlphaBlokusDuo(cfg)\n",
    "ttt_net = AlphaTicTacToe(g, cfg)"
   ]
  },
  {
   "cell_type": "code",
   "execution_count": null,
   "id": "ae5eb349-a24c-4e8a-95b1-5727c6ceba1b",
   "metadata": {},
   "outputs": [],
   "source": [
    "sum(p.numel() for p in bd_net.parameters())/1e6 "
   ]
  },
  {
   "cell_type": "code",
   "execution_count": null,
   "id": "a820a40b-be0f-419a-b1d1-52a99fdc1206",
   "metadata": {},
   "outputs": [],
   "source": [
    "sum(p.numel() for p in ttt_net.parameters())/1e6 "
   ]
  },
  {
   "cell_type": "code",
   "execution_count": null,
   "id": "91e24a17-480f-4a6a-a7f1-2bb291ae440e",
   "metadata": {},
   "outputs": [],
   "source": [
    "bd_net.parameters"
   ]
  },
  {
   "cell_type": "code",
   "execution_count": null,
   "id": "fccfe407-3e8e-470a-adad-2e1822bfe1c2",
   "metadata": {},
   "outputs": [],
   "source": [
    "bd_input = torch.rand(2*14*18).reshape(-1, 14, 18)\n",
    "ttt_input = torch.rand(2*3*3).reshape(-1, 3, 3)"
   ]
  },
  {
   "cell_type": "code",
   "execution_count": null,
   "id": "c9780689-0428-48f6-a671-73187e19d374",
   "metadata": {},
   "outputs": [],
   "source": [
    "bd_res = bd_net(bd_input)\n",
    "ttt_res = ttt_net(ttt_input)"
   ]
  },
  {
   "cell_type": "code",
   "execution_count": null,
   "id": "eb045391-3bba-4d0f-aa7a-592d2f2609f2",
   "metadata": {},
   "outputs": [],
   "source": [
    "make_dot(ttt_res, params=dict(list(ttt_net.named_parameters()))).render(\"ttt_torchviz\", format=\"png\")\n",
    "make_dot(bd_res, params=dict(list(bd_net.named_parameters()))).render(\"bd_torchviz\", format=\"png\")"
   ]
  },
  {
   "cell_type": "code",
   "execution_count": null,
   "id": "48a3f3d4-d703-454e-89b2-bb505b968618",
   "metadata": {},
   "outputs": [],
   "source": [
    "len(ttt_res[0]), len(bd_res[0])"
   ]
  },
  {
   "cell_type": "code",
   "execution_count": null,
   "id": "0f12f827-2567-4ce4-923d-f88d213a69d7",
   "metadata": {},
   "outputs": [],
   "source": [
    "ttt_res[0].shape"
   ]
  },
  {
   "cell_type": "code",
   "execution_count": null,
   "id": "9fdc11c0-6bef-4b1e-a6f9-20db86db16b6",
   "metadata": {},
   "outputs": [],
   "source": [
    "bd_res[1].shape, ttt_res[1].shape"
   ]
  },
  {
   "cell_type": "code",
   "execution_count": null,
   "id": "60d736db-3989-4640-bd2b-c52587bbac96",
   "metadata": {},
   "outputs": [],
   "source": []
  },
  {
   "cell_type": "code",
   "execution_count": null,
   "id": "6198f4c6-31cf-49d5-a0d9-35c30d32fcf9",
   "metadata": {},
   "outputs": [],
   "source": [
    "import os\n",
    "\n",
    "os.environ[\"PATH\"]"
   ]
  },
  {
   "cell_type": "code",
   "execution_count": null,
   "id": "c58666cb-71e0-481c-89b9-2bfc0c81e80b",
   "metadata": {},
   "outputs": [],
   "source": [
    "res[0].shape"
   ]
  },
  {
   "cell_type": "code",
   "execution_count": null,
   "id": "ee1c7a6e-5a58-48b8-b3c5-d898bbe71495",
   "metadata": {},
   "outputs": [],
   "source": [
    "14*14*95"
   ]
  },
  {
   "cell_type": "code",
   "execution_count": null,
   "id": "a34151bb-3f02-4cdc-8d42-ba125e871ce1",
   "metadata": {},
   "outputs": [],
   "source": [
    "torch.prod(torch.tensor(action_size))"
   ]
  },
  {
   "cell_type": "code",
   "execution_count": null,
   "id": "0c89ebde-bdb6-48ab-a176-55a5908658c2",
   "metadata": {},
   "outputs": [],
   "source": [
    "import torch \n",
    "\n",
    "torch.rand(torch.prod(action_size)).shape"
   ]
  },
  {
   "cell_type": "code",
   "execution_count": null,
   "id": "909a520b-0952-439d-8f5b-fa5c496f2614",
   "metadata": {},
   "outputs": [],
   "source": [
    "import numpy as np\n",
    "\n",
    "output = np.random.rand(np.prod(action_size))\n",
    "output.reshape(action_size).shape"
   ]
  },
  {
   "cell_type": "code",
   "execution_count": null,
   "id": "4c4d8236-ad7e-4d11-8dab-b230bb40426c",
   "metadata": {},
   "outputs": [],
   "source": [
    "16*16 -14*14"
   ]
  },
  {
   "cell_type": "code",
   "execution_count": null,
   "id": "16ebc354-dbd9-4fcb-8bcf-1bde8719feb7",
   "metadata": {},
   "outputs": [],
   "source": [
    "s = 0\n",
    "for p in pieces:\n",
    "    s += p.symmetry\n",
    "s"
   ]
  },
  {
   "cell_type": "code",
   "execution_count": null,
   "id": "198389e9-2912-4a04-a64c-15f0e2bf2e3e",
   "metadata": {},
   "outputs": [],
   "source": [
    "len(pieces)"
   ]
  },
  {
   "cell_type": "code",
   "execution_count": null,
   "id": "ce0d173e-7940-4ad7-ad84-0a7ee0c36ebd",
   "metadata": {},
   "outputs": [],
   "source": [
    "pieces"
   ]
  },
  {
   "cell_type": "markdown",
   "id": "4a7d8140-02e0-4dc7-9313-b10938dd1034",
   "metadata": {},
   "source": [
    "# Plot data"
   ]
  },
  {
   "cell_type": "code",
   "execution_count": null,
   "id": "d768996a-df7b-4a26-a995-2c30fcf2e900",
   "metadata": {},
   "outputs": [],
   "source": [
    "import plotly.io as pio\n",
    "from pickle import Pickler, Unpickler\n",
    "from pathlib import Path\n",
    "import os \n",
    "import pandas as pd\n",
    "import plotly_express as px\n",
    "from plotly import graph_objects as go\n",
    "from plotly.subplots import make_subplots\n",
    "from matplotlib import pyplot as plt\n",
    "\n",
    "pio.renderers.default = 'jupyterlab'"
   ]
  },
  {
   "cell_type": "markdown",
   "id": "90ac7680-0e1f-455e-9e9d-9ae16cd1398a",
   "metadata": {},
   "source": [
    "## Report Generation"
   ]
  },
  {
   "cell_type": "markdown",
   "id": "63cc2ab3-1f82-468f-946c-d38685e75829",
   "metadata": {},
   "source": [
    "## Read data"
   ]
  },
  {
   "cell_type": "code",
   "execution_count": null,
   "id": "92dd5ba6-d9e8-4000-81e2-eec94ab8649f",
   "metadata": {},
   "outputs": [],
   "source": [
    "%%time\n",
    "import os\n",
    "\n",
    "# Training data\n",
    "data_root = args.training_data_directory\n",
    "\n",
    "run_completed = False\n",
    "\n",
    "if not run_completed:\n",
    "    filenames = [f for f in os.listdir(data_root) if \"train\" in f]  \n",
    "    \n",
    "    print(filenames)\n",
    "    \n",
    "    def loader(data_root: Path, filename: str):\n",
    "        with open(data_root / filename, \"rb\") as f: \n",
    "            data = Unpickler(f).load()\n",
    "        return pd.DataFrame(data)\n",
    "    \n",
    "    \n",
    "    ds = [loader(data_root, f) for f in filenames]\n",
    "    df = pd.concat(ds, copy=False).assign(average_loss = lambda df: df.average_pi_loss + df.average_v_loss)\n",
    "else:\n",
    "    df = pd.read_parquet(data_root / \"data.parquet\")"
   ]
  },
  {
   "cell_type": "code",
   "execution_count": null,
   "id": "0aacc7cc-e92e-434e-815d-4378815cde3e",
   "metadata": {},
   "outputs": [],
   "source": [
    "# Arena data\n",
    "ad = pd.read_parquet(args.arena_data_directory)"
   ]
  },
  {
   "cell_type": "code",
   "execution_count": null,
   "id": "6aa38dcc-de5b-4084-b9de-6ffb79b96dcc",
   "metadata": {},
   "outputs": [],
   "source": [
    "# Timings\n",
    "\n",
    "td = pd.read_parquet(args.timings_directory)"
   ]
  },
  {
   "cell_type": "code",
   "execution_count": null,
   "id": "7e2b5b19-ff0f-4f6a-9f19-a1a5e8c95485",
   "metadata": {},
   "outputs": [],
   "source": [
    "td[td.cycle_stage == \"WholeCycle\"].time_elapsed.sum() / 60 "
   ]
  },
  {
   "cell_type": "code",
   "execution_count": null,
   "id": "dbb50612-5f8e-4684-a249-04300df00fc8",
   "metadata": {},
   "outputs": [],
   "source": [
    "td.reset_index().apply(lambda df: type(df))"
   ]
  },
  {
   "cell_type": "code",
   "execution_count": null,
   "id": "e664bf31-ba70-447a-9bb5-eec03efbfacc",
   "metadata": {},
   "outputs": [],
   "source": [
    "td.columns"
   ]
  },
  {
   "cell_type": "code",
   "execution_count": null,
   "id": "3eb69004-6fa3-45db-8c91-9429e9d11af0",
   "metadata": {},
   "outputs": [],
   "source": [
    "td.reset_index().apply(lambda df: df[df.cycle_stage == \"WholeCycle\"])"
   ]
  },
  {
   "cell_type": "code",
   "execution_count": null,
   "id": "764e4128-11eb-4acb-a9cd-3fe4ce9b4ba6",
   "metadata": {},
   "outputs": [],
   "source": [
    "from pandas import DataFrame\n",
    "\n",
    "def make_loss_curves(df: DataFrame) -> tuple[go.Figure]:\n",
    "    \n",
    "    df_plot = df.sort_values([\"generation\", \"epoch\", \"batch_number\"]).astype({\"epoch\": \"category\", \"generation\": \"category\"})\n",
    "    agg_df_plot = df_plot.groupby(\"generation\").agg({\"average_loss\": \"last\"}).reset_index()\n",
    "    \n",
    "    fig1 = px.line(\n",
    "        agg_df_plot, x=\"generation\", y=\"average_loss\" \n",
    "    )\n",
    "\n",
    "    fig2 = px.scatter(\n",
    "        df_plot, x=\"batch_number\", y=\"average_loss\", color=\"epoch\", hover_data =[\"generation\"],\n",
    "        labels={\"x\": \"Batch Number\", \"y\": \"Average Loss\"}\n",
    "    )\n",
    "\n",
    "    fig1.update_layout(\n",
    "        width=1200, \n",
    "        height=600,\n",
    "        xaxis_title=\"Generation\",\n",
    "        yaxis_title=\"Average Loss\", \n",
    "        title=\"Average Total Pi And V Loss per Generation\",\n",
    "    )\n",
    "\n",
    "    fig2.update_traces(marker_size=2)\n",
    "    fig2.update_layout(\n",
    "        width=1200,\n",
    "        height=600, \n",
    "        yaxis_title=\"Average Loss\",\n",
    "        xaxis_title=\"Batch Number\",\n",
    "        title=\"Average Total Pi And V Loss As A Function Of Batch Number For Each Generation And Epoch\",\n",
    "    )\n",
    "    \n",
    "    return fig1, fig2\n",
    "\n",
    "def make_arena_data_plot(arena_data: pd.DataFrame) -> go.Figure:\n",
    "    arena_data = arena_data.assign(**{\n",
    "        \"Percentage Losses\": lambda df: 100*df.losses/ (df.wins + df.losses + df.draws),\n",
    "        \"Percentage Wins\": lambda df: 100*df.wins/ (df.wins + df.losses + df.draws)\n",
    "    }).sort_values([\"generation\"]).astype({\"generation\": \"category\"})\n",
    "    \n",
    "    fig = px.bar(\n",
    "        arena_data, x= \"generation\", y=[\"Percentage Wins\", \"Percentage Losses\"], labels={\"x\": \"Generation\", \"y\": \"Percentage Value\"}\n",
    "    )\n",
    "\n",
    "    fig.update_layout(\n",
    "        width=1200,\n",
    "        height=600, \n",
    "        yaxis_title=\"Percentage Value\",\n",
    "        xaxis_title=\"Generation\",\n",
    "        title=\"Win & Loss Rate Of New Net Against Predecessor\",\n",
    "    )\n",
    "    fig.update_yaxes(range=[0, 100])\n",
    "    return fig\n",
    "\n",
    "\n",
    "def make_performance_statistics_plot(timings_data: pd.DataFrame) -> go.Figure:\n",
    "    cycles = df.cycle_stage.unique()\n",
    "    fig = make_subplots(cols=len(cycles), shared_yaxes=True, subplot_titles=cycles, x_title=\"Generation\", y_title=\"Time Elapsed / S\")\n",
    "    \n",
    "    for i, cycle in enumerate(cycles):\n",
    "        filt = lambda df: df.cycle_stage == cycle\n",
    "        fig.add_trace(\n",
    "            go.Bar(\n",
    "                x= df[filt][\"generation\"], y = df[filt][\"time_elapsed\"], name=cycle\n",
    "            ), row=1, col=i+1\n",
    "        )\n",
    "        \n",
    "    \n",
    "    fig.update_layout(height=600, width=1200,\n",
    "                      title_text=f\"Performance Statistics For run\")\n",
    "    \n",
    "    return fig"
   ]
  },
  {
   "cell_type": "code",
   "execution_count": null,
   "id": "1455b9ac-380c-4332-a309-9f4123f842bd",
   "metadata": {},
   "outputs": [],
   "source": [
    "args.training_data_directory"
   ]
  },
  {
   "cell_type": "code",
   "execution_count": null,
   "id": "c8ca441c-6bed-4185-abbe-63ab79775a03",
   "metadata": {},
   "outputs": [],
   "source": [
    "args.run_name"
   ]
  },
  {
   "cell_type": "code",
   "execution_count": null,
   "id": "b475edbb-d6c0-4e66-9a01-1ca09267186a",
   "metadata": {},
   "outputs": [],
   "source": [
    "def create_html_report(args):\n",
    "    loss_data = pd.read_parquet(args.training_data_directory / \"data.parquet\")\n",
    "    arena_data = pd.read_parquet(args.arena_data_directory)\n",
    "    timings_data = pd.read_parquet(args.timings_directory)\n",
    "\n",
    "    fig1, fig2 = make_loss_curves(loss_data)\n",
    "    fig3 = make_arena_data_plot(arena_data)\n",
    "    fig4 = make_performance_statistics_plot(timings_data)\n",
    "\n",
    "    with open('tmp.html', 'w') as f:\n",
    "        f.write(fr\"\"\"\n",
    "            <html><head><title> Output Data in an HTML file \\ \n",
    "            </title></head><body><h1> <u>AlphaBlokus</u> Report </h1> \n",
    "            <h2>For run: '{args.run_name}' </h2> </body></html>\"\"\"\n",
    "               ) \n",
    "        f.write(fig1.to_html(full_html=False, include_plotlyjs='cdn'))\n",
    "        f.write(fig2.to_html(full_html=False, include_plotlyjs='cdn'))\n",
    "        f.write(fig3.to_html(full_html=False, include_plotlyjs='cdn'))\n",
    "        f.write(fig4.to_html(full_html=False, include_plotlyjs='cdn'))\n",
    "\n"
   ]
  },
  {
   "cell_type": "code",
   "execution_count": null,
   "id": "7c4b32f5-d857-4f16-bb04-90d8170884de",
   "metadata": {},
   "outputs": [],
   "source": [
    "%%time\n",
    "\n",
    "create_html_report(args)"
   ]
  },
  {
   "cell_type": "markdown",
   "id": "2822c909-7c27-4ad0-bf84-61cf7539df18",
   "metadata": {},
   "source": [
    "## Performance Statistics"
   ]
  },
  {
   "cell_type": "code",
   "execution_count": null,
   "id": "255028bf-195b-48f9-b928-756848e7aa16",
   "metadata": {},
   "outputs": [],
   "source": [
    "root = args.timings_directory\n",
    "df = pd.read_parquet(root / \"timings.parquet\")\n"
   ]
  },
  {
   "cell_type": "code",
   "execution_count": null,
   "id": "e58eb086-81a4-4a64-bb74-c603f125d8c0",
   "metadata": {},
   "outputs": [],
   "source": [
    "make_performance_statistics_plot(df)"
   ]
  },
  {
   "cell_type": "code",
   "execution_count": null,
   "id": "8e8b015a-e6ba-41aa-838e-9e81944f230b",
   "metadata": {},
   "outputs": [],
   "source": [
    "print(\n",
    "    f\"Total time elapsed: {df[df.cycle_stage == \"WholeCycle\"].time_elapsed.sum()/60} Minutes!\"\n",
    ")"
   ]
  },
  {
   "cell_type": "markdown",
   "id": "8a74baa1-3b4e-4354-adfb-3f52e05e9f4b",
   "metadata": {},
   "source": [
    "## Window Size"
   ]
  },
  {
   "cell_type": "code",
   "execution_count": null,
   "id": "d90fc01d-f39b-4d9d-92f0-62aaa2406bb2",
   "metadata": {},
   "outputs": [],
   "source": [
    "import numpy as np\n",
    "def _generation_window_size(max_value, generation: int) -> int:\n",
    "    # Dynamically adjusted window size for generation lookback\n",
    "    # To get window size, I've fit the line:\n",
    "    # y = a*x + b to the points (x=0, y=5) and (x=2*max_window_size, y=max_window_size)\n",
    "    # This allows a good combination of forgetting earlier games but retaining good memory as iterations go on\n",
    "\n",
    "    if generation <= 5:\n",
    "        return 5\n",
    "    max_val = max_value\n",
    "\n",
    "    if 2 * max_val > generation:\n",
    "        return round(generation * (max_val - 5) / (2 * max_val) + 5)\n",
    "\n",
    "    return max_val\n",
    "\n",
    "x = np.arange(30)\n",
    "y = [_generation_window_size(15, i) for i in x]\n",
    "\n",
    "px.scatter(x=x, y=y)"
   ]
  },
  {
   "cell_type": "markdown",
   "id": "2d9552f3-f324-4d93-a0aa-baa991dc8a3c",
   "metadata": {},
   "source": [
    "##  Playing The Net"
   ]
  },
  {
   "cell_type": "code",
   "execution_count": null,
   "id": "146fc1e9-9a61-4ce3-8096-d00896cccc5d",
   "metadata": {},
   "outputs": [],
   "source": [
    "%%time\n",
    "from core.coach import Coach\n",
    "from pathlib import Path\n",
    "from core.config import RunConfig, NetConfig, MCTSConfig\n",
    "from tictactoe.tictactoegame import TicTacToeGame as Game\n",
    "from tictactoe.neuralnets.wrapper import NNetWrapper\n",
    "from main import args\n",
    "from core.mcts import MCTS\n",
    "\n",
    "import numpy as np\n",
    "\n",
    "g = Game(3)\n",
    "nnet = NNetWrapper(g, args)\n",
    "c = Coach(g, nnet, args)"
   ]
  },
  {
   "cell_type": "markdown",
   "id": "39729664-b01d-48b8-97b0-ff43ccf6d006",
   "metadata": {},
   "source": [
    "# Play a game"
   ]
  },
  {
   "cell_type": "code",
   "execution_count": null,
   "id": "33621a5c-a3f1-4e09-808e-acbf4b56e0b6",
   "metadata": {},
   "outputs": [],
   "source": [
    "# Load in bot to play\n",
    "nnet.load_checkpoint(filename='best.pth.tar')\n",
    "computer = MCTS(g, nnet, args.mcts_config)\n",
    "computer_player = lambda x: np.argmax(computer.get_action_prob(x, temp=0))"
   ]
  },
  {
   "cell_type": "code",
   "execution_count": null,
   "id": "66628f52-8fff-47f2-9c6c-5ddc4ad337ff",
   "metadata": {},
   "outputs": [],
   "source": [
    "# Create human player interface\n",
    "\n",
    "class HumanTicTacToePlayer:\n",
    "    def __init__(self, game):\n",
    "        self.game = game\n",
    "\n",
    "    def play(self, board):\n",
    "        display(board)\n",
    "        valid = self.game.get_valid_moves(board, 1)\n",
    "        print (f\"Valid moves: {np.where(valid==1)}\")\n",
    "        \n",
    "        while True:\n",
    "            input_move = input()\n",
    "            a = int(input_move)\n",
    "            if a > -1 and a < 11:\n",
    "                return a\n",
    "            else:\n",
    "                raise ValueError(f\"Must be integer in range (0, 10), {a} is out of range\")\n",
    "        return a\n",
    "\n",
    "human = HumanTicTacToePlayer(g)"
   ]
  },
  {
   "cell_type": "code",
   "execution_count": null,
   "id": "ae67513f-90de-4045-a77a-f4b3359e411c",
   "metadata": {},
   "outputs": [],
   "source": [
    "from core.arena import Arena\n",
    "from IPython.display import display\n",
    "\n",
    "arena = Arena(human.play, computer_player, g, display=display)"
   ]
  },
  {
   "cell_type": "code",
   "execution_count": null,
   "id": "a7adfb53-99d8-435f-aded-9adf0ab62fd6",
   "metadata": {},
   "outputs": [],
   "source": [
    "# Run this cell to play against the computer\n",
    "\n",
    "arena.play_game(verbose=True)"
   ]
  },
  {
   "cell_type": "markdown",
   "id": "7f62d636-3bcc-489d-82f3-3efb61977f64",
   "metadata": {},
   "source": [
    "### Try and read in examples"
   ]
  },
  {
   "cell_type": "code",
   "execution_count": null,
   "id": "e982e1dc-c56c-494a-a972-ad1d132418b4",
   "metadata": {},
   "outputs": [],
   "source": [
    "from pickle import Pickler, Unpickler\n",
    "from pathlib import Path\n",
    "import os"
   ]
  },
  {
   "cell_type": "code",
   "execution_count": null,
   "id": "234a9e6d-90f7-4a14-b80e-11b92b6de78c",
   "metadata": {},
   "outputs": [],
   "source": [
    "%%time\n",
    "with open(args.self_play_history_directory / \"self_play_history_29.pickle\", \"rb\") as f:\n",
    "    examples = Unpickler(f).load()"
   ]
  },
  {
   "cell_type": "code",
   "execution_count": null,
   "id": "cbfad8f2-848e-4384-8485-2debb76eff25",
   "metadata": {},
   "outputs": [],
   "source": [
    "import pandas as pd\n",
    "from pathlib import Path\n",
    "\n",
    "p = Path(r'C:\\Users\\Henry\\PycharmProjects\\Alpha\\temp\\test_run\\TrainingData')\n",
    "\n",
    "def loader(filepath: Path):\n",
    "    with open(filepath, \"rb\") as f:\n",
    "        data = Unpickler(f).load()\n",
    "    return pd.DataFrame(data)\n",
    "\n",
    "df = loader(p / \"train_1.data\")"
   ]
  },
  {
   "cell_type": "code",
   "execution_count": null,
   "id": "41b663d0-3608-40df-abc9-bba8d331974b",
   "metadata": {},
   "outputs": [],
   "source": [
    "df.pi_loss.astype(float)"
   ]
  },
  {
   "cell_type": "code",
   "execution_count": null,
   "id": "3b1412f6-4929-40e0-b94b-d1bfafd4e827",
   "metadata": {},
   "outputs": [],
   "source": [
    "pd.read_parquet(p / \"data.parquet\")"
   ]
  }
 ],
 "metadata": {
  "kernelspec": {
   "display_name": "Alpha",
   "language": "python",
   "name": "alpha"
  },
  "language_info": {
   "codemirror_mode": {
    "name": "ipython",
    "version": 3
   },
   "file_extension": ".py",
   "mimetype": "text/x-python",
   "name": "python",
   "nbconvert_exporter": "python",
   "pygments_lexer": "ipython3",
   "version": "3.12.8"
  }
 },
 "nbformat": 4,
 "nbformat_minor": 5
}
