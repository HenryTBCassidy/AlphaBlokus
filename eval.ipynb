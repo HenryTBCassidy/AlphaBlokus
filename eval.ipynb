{
 "cells": [
  {
   "cell_type": "markdown",
   "id": "fada785c",
   "metadata": {},
   "source": [
    "## Pieces"
   ]
  },
  {
   "cell_type": "code",
   "execution_count": null,
   "id": "5a97ed7f",
   "metadata": {},
   "outputs": [],
   "source": [
    "import numpy as np\n",
    "\n",
    "n=14\n",
    "board = np.zeros(n ** 2, dtype=int).reshape(n, n)\n",
    "\n",
    "piece = np.array(\n",
    "    [\n",
    "      [0, 1, 1],\n",
    "      [1, 1, 0],\n",
    "      [0, 1, 0]\n",
    "    ]\n",
    ")\n",
    "\n",
    "black_start = (4, 4)\n",
    "white_start = (9, 9)\n",
    "\n",
    "length, width = piece.shape\n",
    "insert = (8, 8)\n",
    "for i in range(length):\n",
    "    for j in range(width):\n",
    "        board[(insert[0] + i), (insert[1] + j)] = piece[i, j]\n",
    "\n",
    "board"
   ]
  },
  {
   "cell_type": "code",
   "execution_count": null,
   "id": "ddf11485",
   "metadata": {},
   "outputs": [],
   "source": [
    "!python --version"
   ]
  },
  {
   "cell_type": "markdown",
   "id": "973539d6-a694-493c-aa1d-ef964e8a3816",
   "metadata": {},
   "source": [
    "## Actual Game and Board"
   ]
  },
  {
   "cell_type": "code",
   "execution_count": 1,
   "id": "6f607981",
   "metadata": {},
   "outputs": [],
   "source": [
    "from blokusduo.game import BlokusDuoGame, BlokusDuoBoard\n",
    "from pathlib import Path\n",
    "\n",
    "p = Path(\"blokusduo\") / \"pieces.json\"\n",
    "game = BlokusDuoGame(p)\n",
    "board = game.initialise_board()"
   ]
  },
  {
   "cell_type": "code",
   "execution_count": 2,
   "id": "7197f6a8-1685-47b8-80a2-72c062058342",
   "metadata": {},
   "outputs": [
    {
     "data": {
      "text/plain": [
       "\u001b[0;31mSignature:\u001b[0m \u001b[0mboard\u001b[0m\u001b[0;34m.\u001b[0m\u001b[0minsert_piece\u001b[0m\u001b[0;34m(\u001b[0m\u001b[0maction\u001b[0m\u001b[0;34m:\u001b[0m \u001b[0mblokusduo\u001b[0m\u001b[0;34m.\u001b[0m\u001b[0mgame\u001b[0m\u001b[0;34m.\u001b[0m\u001b[0mAction\u001b[0m\u001b[0;34m,\u001b[0m \u001b[0mplayer\u001b[0m\u001b[0;34m:\u001b[0m \u001b[0mint\u001b[0m\u001b[0;34m)\u001b[0m \u001b[0;34m->\u001b[0m \u001b[0;32mNone\u001b[0m\u001b[0;34m\u001b[0m\u001b[0;34m\u001b[0m\u001b[0m\n",
       "\u001b[0;31mDocstring:\u001b[0m\n",
       ":param action: (Action) Holds piece_id, orientation, x and y coordinates for move (origin is bottom left square)\n",
       ":param player: (int) 1 for White and -1 for Black\n",
       ":return:\n",
       "\u001b[0;31mFile:\u001b[0m      ~/PycharmProjects/AlphaBlokus/blokusduo/game.py\n",
       "\u001b[0;31mType:\u001b[0m      method"
      ]
     },
     "metadata": {},
     "output_type": "display_data"
    }
   ],
   "source": [
    "board.insert_piece?"
   ]
  },
  {
   "cell_type": "code",
   "execution_count": 10,
   "id": "fb5f5b74-d42d-47cb-bf07-7c987bbc9247",
   "metadata": {},
   "outputs": [
    {
     "data": {
      "text/plain": [
       "array([[1, 1],\n",
       "       [1, 1],\n",
       "       [1, 0]])"
      ]
     },
     "execution_count": 10,
     "metadata": {},
     "output_type": "execute_result"
    }
   ],
   "source": [
    "game.piece_manager.pieces[14].identity"
   ]
  },
  {
   "cell_type": "code",
   "execution_count": null,
   "id": "b51f6fc6-0ee7-4b0b-9bd0-4866d34175c1",
   "metadata": {},
   "outputs": [],
   "source": []
  },
  {
   "cell_type": "code",
   "execution_count": 7,
   "id": "46f52450-59c4-41da-a7e1-a2dcea018e15",
   "metadata": {},
   "outputs": [
    {
     "data": {
      "text/plain": [
       "[Action(piece_id=1, orientation=<Orientation.Identity: 'Identity'>, x_coordinate=4, y_coordinate=9),\n",
       " Action(piece_id=2, orientation=<Orientation.Identity: 'Identity'>, x_coordinate=4, y_coordinate=9),\n",
       " Action(piece_id=2, orientation=<Orientation.Identity: 'Identity'>, x_coordinate=4, y_coordinate=10),\n",
       " Action(piece_id=2, orientation=<Orientation.Rot90: 'Rot90'>, x_coordinate=4, y_coordinate=9),\n",
       " Action(piece_id=2, orientation=<Orientation.Rot90: 'Rot90'>, x_coordinate=3, y_coordinate=9),\n",
       " Action(piece_id=3, orientation=<Orientation.Identity: 'Identity'>, x_coordinate=4, y_coordinate=9),\n",
       " Action(piece_id=3, orientation=<Orientation.Identity: 'Identity'>, x_coordinate=4, y_coordinate=10),\n",
       " Action(piece_id=3, orientation=<Orientation.Identity: 'Identity'>, x_coordinate=3, y_coordinate=10),\n",
       " Action(piece_id=3, orientation=<Orientation.Rot90: 'Rot90'>, x_coordinate=3, y_coordinate=9),\n",
       " Action(piece_id=3, orientation=<Orientation.Rot90: 'Rot90'>, x_coordinate=4, y_coordinate=10)]"
      ]
     },
     "execution_count": 7,
     "metadata": {},
     "output_type": "execute_result"
    }
   ],
   "source": [
    "game.initial_actions[-1][:10]"
   ]
  },
  {
   "cell_type": "code",
   "execution_count": 6,
   "id": "4d45ea58-d9fe-432c-8d1e-0eb6020a18a2",
   "metadata": {},
   "outputs": [
    {
     "name": "stdout",
     "output_type": "stream",
     "text": [
      "[[ 0  0  0  0  0  0  0  0  0  0  0  0  0  0]\n",
      " [ 0  0  0  0  0  0  0  0  0  0  0  0  0  0]\n",
      " [ 0  0  0  0  0  0  0  0  0  0  0  0  0  0]\n",
      " [ 0  0  0  0  0  0  0  0  0  0  0  0  0  0]\n",
      " [ 0  0  0  0 -1  0  0  0  0  0  0  0  0  0]\n",
      " [ 0  0  0  0  0  0  0  0  0  0  0  0  0  0]\n",
      " [ 0  0  0  0  0  0  0  0  0  0  0  0  0  0]\n",
      " [ 0  0  0  0  0  0  0  0  0  0  0  0  0  0]\n",
      " [ 0  0  0  0  0  0  0  0  0  0  0  0  0  0]\n",
      " [ 0  0  0  0  0  0  0  0  0  0  0  0  0  0]\n",
      " [ 0  0  0  0  0  0  0  0  0  0  0  0  0  0]\n",
      " [ 0  0  0  0  0  0  0  0  0  0  0  0  0  0]\n",
      " [ 0  0  0  0  0  0  0  0  0  0  0  0  0  0]\n",
      " [ 0  0  0  0  0  0  0  0  0  0  0  0  0  0]]\n",
      "\n",
      "\n",
      "[[ 0  0  0  0  0  0  0  0  0  0  0  0  0  0]\n",
      " [ 0  0  0  0  0  0  0  0  0  0  0  0  0  0]\n",
      " [ 0  0  0  0  0  0  0  0  0  0  0  0  0  0]\n",
      " [ 0  0  0  0  0  0  0  0  0  0  0  0  0  0]\n",
      " [ 0  0  0  0 -1  0  0  0  0  0  0  0  0  0]\n",
      " [ 0  0  0  0 -1  0  0  0  0  0  0  0  0  0]\n",
      " [ 0  0  0  0  0  0  0  0  0  0  0  0  0  0]\n",
      " [ 0  0  0  0  0  0  0  0  0  0  0  0  0  0]\n",
      " [ 0  0  0  0  0  0  0  0  0  0  0  0  0  0]\n",
      " [ 0  0  0  0  0  0  0  0  0  0  0  0  0  0]\n",
      " [ 0  0  0  0  0  0  0  0  0  0  0  0  0  0]\n",
      " [ 0  0  0  0  0  0  0  0  0  0  0  0  0  0]\n",
      " [ 0  0  0  0  0  0  0  0  0  0  0  0  0  0]\n",
      " [ 0  0  0  0  0  0  0  0  0  0  0  0  0  0]]\n",
      "\n",
      "\n",
      "[[ 0  0  0  0  0  0  0  0  0  0  0  0  0  0]\n",
      " [ 0  0  0  0  0  0  0  0  0  0  0  0  0  0]\n",
      " [ 0  0  0  0  0  0  0  0  0  0  0  0  0  0]\n",
      " [ 0  0  0  0 -1  0  0  0  0  0  0  0  0  0]\n",
      " [ 0  0  0  0 -1  0  0  0  0  0  0  0  0  0]\n",
      " [ 0  0  0  0  0  0  0  0  0  0  0  0  0  0]\n",
      " [ 0  0  0  0  0  0  0  0  0  0  0  0  0  0]\n",
      " [ 0  0  0  0  0  0  0  0  0  0  0  0  0  0]\n",
      " [ 0  0  0  0  0  0  0  0  0  0  0  0  0  0]\n",
      " [ 0  0  0  0  0  0  0  0  0  0  0  0  0  0]\n",
      " [ 0  0  0  0  0  0  0  0  0  0  0  0  0  0]\n",
      " [ 0  0  0  0  0  0  0  0  0  0  0  0  0  0]\n",
      " [ 0  0  0  0  0  0  0  0  0  0  0  0  0  0]\n",
      " [ 0  0  0  0  0  0  0  0  0  0  0  0  0  0]]\n",
      "\n",
      "\n",
      "[[ 0  0  0  0  0  0  0  0  0  0  0  0  0  0]\n",
      " [ 0  0  0  0  0  0  0  0  0  0  0  0  0  0]\n",
      " [ 0  0  0  0  0  0  0  0  0  0  0  0  0  0]\n",
      " [ 0  0  0  0  0  0  0  0  0  0  0  0  0  0]\n",
      " [ 0  0  0  0 -1 -1  0  0  0  0  0  0  0  0]\n",
      " [ 0  0  0  0  0  0  0  0  0  0  0  0  0  0]\n",
      " [ 0  0  0  0  0  0  0  0  0  0  0  0  0  0]\n",
      " [ 0  0  0  0  0  0  0  0  0  0  0  0  0  0]\n",
      " [ 0  0  0  0  0  0  0  0  0  0  0  0  0  0]\n",
      " [ 0  0  0  0  0  0  0  0  0  0  0  0  0  0]\n",
      " [ 0  0  0  0  0  0  0  0  0  0  0  0  0  0]\n",
      " [ 0  0  0  0  0  0  0  0  0  0  0  0  0  0]\n",
      " [ 0  0  0  0  0  0  0  0  0  0  0  0  0  0]\n",
      " [ 0  0  0  0  0  0  0  0  0  0  0  0  0  0]]\n",
      "\n",
      "\n",
      "[[ 0  0  0  0  0  0  0  0  0  0  0  0  0  0]\n",
      " [ 0  0  0  0  0  0  0  0  0  0  0  0  0  0]\n",
      " [ 0  0  0  0  0  0  0  0  0  0  0  0  0  0]\n",
      " [ 0  0  0  0  0  0  0  0  0  0  0  0  0  0]\n",
      " [ 0  0  0 -1 -1  0  0  0  0  0  0  0  0  0]\n",
      " [ 0  0  0  0  0  0  0  0  0  0  0  0  0  0]\n",
      " [ 0  0  0  0  0  0  0  0  0  0  0  0  0  0]\n",
      " [ 0  0  0  0  0  0  0  0  0  0  0  0  0  0]\n",
      " [ 0  0  0  0  0  0  0  0  0  0  0  0  0  0]\n",
      " [ 0  0  0  0  0  0  0  0  0  0  0  0  0  0]\n",
      " [ 0  0  0  0  0  0  0  0  0  0  0  0  0  0]\n",
      " [ 0  0  0  0  0  0  0  0  0  0  0  0  0  0]\n",
      " [ 0  0  0  0  0  0  0  0  0  0  0  0  0  0]\n",
      " [ 0  0  0  0  0  0  0  0  0  0  0  0  0  0]]\n",
      "\n",
      "\n",
      "[[ 0  0  0  0  0  0  0  0  0  0  0  0  0  0]\n",
      " [ 0  0  0  0  0  0  0  0  0  0  0  0  0  0]\n",
      " [ 0  0  0  0  0  0  0  0  0  0  0  0  0  0]\n",
      " [ 0  0  0  0  0  0  0  0  0  0  0  0  0  0]\n",
      " [ 0  0  0  0 -1  0  0  0  0  0  0  0  0  0]\n",
      " [ 0  0  0  0 -1 -1  0  0  0  0  0  0  0  0]\n",
      " [ 0  0  0  0  0  0  0  0  0  0  0  0  0  0]\n",
      " [ 0  0  0  0  0  0  0  0  0  0  0  0  0  0]\n",
      " [ 0  0  0  0  0  0  0  0  0  0  0  0  0  0]\n",
      " [ 0  0  0  0  0  0  0  0  0  0  0  0  0  0]\n",
      " [ 0  0  0  0  0  0  0  0  0  0  0  0  0  0]\n",
      " [ 0  0  0  0  0  0  0  0  0  0  0  0  0  0]\n",
      " [ 0  0  0  0  0  0  0  0  0  0  0  0  0  0]\n",
      " [ 0  0  0  0  0  0  0  0  0  0  0  0  0  0]]\n",
      "\n",
      "\n",
      "[[ 0  0  0  0  0  0  0  0  0  0  0  0  0  0]\n",
      " [ 0  0  0  0  0  0  0  0  0  0  0  0  0  0]\n",
      " [ 0  0  0  0  0  0  0  0  0  0  0  0  0  0]\n",
      " [ 0  0  0  0 -1  0  0  0  0  0  0  0  0  0]\n",
      " [ 0  0  0  0 -1 -1  0  0  0  0  0  0  0  0]\n",
      " [ 0  0  0  0  0  0  0  0  0  0  0  0  0  0]\n",
      " [ 0  0  0  0  0  0  0  0  0  0  0  0  0  0]\n",
      " [ 0  0  0  0  0  0  0  0  0  0  0  0  0  0]\n",
      " [ 0  0  0  0  0  0  0  0  0  0  0  0  0  0]\n",
      " [ 0  0  0  0  0  0  0  0  0  0  0  0  0  0]\n",
      " [ 0  0  0  0  0  0  0  0  0  0  0  0  0  0]\n",
      " [ 0  0  0  0  0  0  0  0  0  0  0  0  0  0]\n",
      " [ 0  0  0  0  0  0  0  0  0  0  0  0  0  0]\n",
      " [ 0  0  0  0  0  0  0  0  0  0  0  0  0  0]]\n",
      "\n",
      "\n",
      "[[ 0  0  0  0  0  0  0  0  0  0  0  0  0  0]\n",
      " [ 0  0  0  0  0  0  0  0  0  0  0  0  0  0]\n",
      " [ 0  0  0  0  0  0  0  0  0  0  0  0  0  0]\n",
      " [ 0  0  0 -1  0  0  0  0  0  0  0  0  0  0]\n",
      " [ 0  0  0 -1 -1  0  0  0  0  0  0  0  0  0]\n",
      " [ 0  0  0  0  0  0  0  0  0  0  0  0  0  0]\n",
      " [ 0  0  0  0  0  0  0  0  0  0  0  0  0  0]\n",
      " [ 0  0  0  0  0  0  0  0  0  0  0  0  0  0]\n",
      " [ 0  0  0  0  0  0  0  0  0  0  0  0  0  0]\n",
      " [ 0  0  0  0  0  0  0  0  0  0  0  0  0  0]\n",
      " [ 0  0  0  0  0  0  0  0  0  0  0  0  0  0]\n",
      " [ 0  0  0  0  0  0  0  0  0  0  0  0  0  0]\n",
      " [ 0  0  0  0  0  0  0  0  0  0  0  0  0  0]\n",
      " [ 0  0  0  0  0  0  0  0  0  0  0  0  0  0]]\n",
      "\n",
      "\n",
      "[[ 0  0  0  0  0  0  0  0  0  0  0  0  0  0]\n",
      " [ 0  0  0  0  0  0  0  0  0  0  0  0  0  0]\n",
      " [ 0  0  0  0  0  0  0  0  0  0  0  0  0  0]\n",
      " [ 0  0  0  0  0  0  0  0  0  0  0  0  0  0]\n",
      " [ 0  0  0  0 -1  0  0  0  0  0  0  0  0  0]\n",
      " [ 0  0  0 -1 -1  0  0  0  0  0  0  0  0  0]\n",
      " [ 0  0  0  0  0  0  0  0  0  0  0  0  0  0]\n",
      " [ 0  0  0  0  0  0  0  0  0  0  0  0  0  0]\n",
      " [ 0  0  0  0  0  0  0  0  0  0  0  0  0  0]\n",
      " [ 0  0  0  0  0  0  0  0  0  0  0  0  0  0]\n",
      " [ 0  0  0  0  0  0  0  0  0  0  0  0  0  0]\n",
      " [ 0  0  0  0  0  0  0  0  0  0  0  0  0  0]\n",
      " [ 0  0  0  0  0  0  0  0  0  0  0  0  0  0]\n",
      " [ 0  0  0  0  0  0  0  0  0  0  0  0  0  0]]\n",
      "\n",
      "\n",
      "[[ 0  0  0  0  0  0  0  0  0  0  0  0  0  0]\n",
      " [ 0  0  0  0  0  0  0  0  0  0  0  0  0  0]\n",
      " [ 0  0  0  0  0  0  0  0  0  0  0  0  0  0]\n",
      " [ 0  0  0  0  0 -1  0  0  0  0  0  0  0  0]\n",
      " [ 0  0  0  0 -1 -1  0  0  0  0  0  0  0  0]\n",
      " [ 0  0  0  0  0  0  0  0  0  0  0  0  0  0]\n",
      " [ 0  0  0  0  0  0  0  0  0  0  0  0  0  0]\n",
      " [ 0  0  0  0  0  0  0  0  0  0  0  0  0  0]\n",
      " [ 0  0  0  0  0  0  0  0  0  0  0  0  0  0]\n",
      " [ 0  0  0  0  0  0  0  0  0  0  0  0  0  0]\n",
      " [ 0  0  0  0  0  0  0  0  0  0  0  0  0  0]\n",
      " [ 0  0  0  0  0  0  0  0  0  0  0  0  0  0]\n",
      " [ 0  0  0  0  0  0  0  0  0  0  0  0  0  0]\n",
      " [ 0  0  0  0  0  0  0  0  0  0  0  0  0  0]]\n",
      "\n",
      "\n"
     ]
    }
   ],
   "source": [
    "for a in game.initial_actions[-1][:10]:\n",
    "    board.insert_piece(a, -1)\n",
    "    print(board._board_representation)\n",
    "    print(\"\\n\")\n",
    "    board = game.initialise_board()"
   ]
  },
  {
   "cell_type": "code",
   "execution_count": 5,
   "id": "dd4e2635-f4eb-4ac4-8c6b-9b8150a85c1e",
   "metadata": {},
   "outputs": [
    {
     "name": "stdout",
     "output_type": "stream",
     "text": [
      "[[0 0 0 0 0 0 0 0 0 0 0 0 0 0]\n",
      " [0 0 0 0 0 0 0 0 0 0 0 0 0 0]\n",
      " [0 0 0 0 0 0 0 0 0 0 0 0 0 0]\n",
      " [0 0 0 0 0 0 0 0 0 0 0 0 0 0]\n",
      " [0 0 0 0 0 0 0 0 0 0 0 0 0 0]\n",
      " [0 0 0 0 0 0 0 0 0 0 0 0 0 0]\n",
      " [0 0 0 0 0 0 0 0 0 0 0 0 0 0]\n",
      " [0 0 0 0 0 0 0 0 0 0 0 0 0 0]\n",
      " [0 0 0 0 0 0 0 0 0 0 0 0 0 0]\n",
      " [0 0 0 0 0 0 0 0 0 1 0 0 0 0]\n",
      " [0 0 0 0 0 0 0 0 0 0 0 0 0 0]\n",
      " [0 0 0 0 0 0 0 0 0 0 0 0 0 0]\n",
      " [0 0 0 0 0 0 0 0 0 0 0 0 0 0]\n",
      " [0 0 0 0 0 0 0 0 0 0 0 0 0 0]]\n",
      "\n",
      "\n",
      "[[0 0 0 0 0 0 0 0 0 0 0 0 0 0]\n",
      " [0 0 0 0 0 0 0 0 0 0 0 0 0 0]\n",
      " [0 0 0 0 0 0 0 0 0 0 0 0 0 0]\n",
      " [0 0 0 0 0 0 0 0 0 0 0 0 0 0]\n",
      " [0 0 0 0 0 0 0 0 0 0 0 0 0 0]\n",
      " [0 0 0 0 0 0 0 0 0 0 0 0 0 0]\n",
      " [0 0 0 0 0 0 0 0 0 0 0 0 0 0]\n",
      " [0 0 0 0 0 0 0 0 0 0 0 0 0 0]\n",
      " [0 0 0 0 0 0 0 0 0 0 0 0 0 0]\n",
      " [0 0 0 0 0 0 0 0 0 1 0 0 0 0]\n",
      " [0 0 0 0 0 0 0 0 0 1 0 0 0 0]\n",
      " [0 0 0 0 0 0 0 0 0 0 0 0 0 0]\n",
      " [0 0 0 0 0 0 0 0 0 0 0 0 0 0]\n",
      " [0 0 0 0 0 0 0 0 0 0 0 0 0 0]]\n",
      "\n",
      "\n",
      "[[0 0 0 0 0 0 0 0 0 0 0 0 0 0]\n",
      " [0 0 0 0 0 0 0 0 0 0 0 0 0 0]\n",
      " [0 0 0 0 0 0 0 0 0 0 0 0 0 0]\n",
      " [0 0 0 0 0 0 0 0 0 0 0 0 0 0]\n",
      " [0 0 0 0 0 0 0 0 0 0 0 0 0 0]\n",
      " [0 0 0 0 0 0 0 0 0 0 0 0 0 0]\n",
      " [0 0 0 0 0 0 0 0 0 0 0 0 0 0]\n",
      " [0 0 0 0 0 0 0 0 0 0 0 0 0 0]\n",
      " [0 0 0 0 0 0 0 0 0 1 0 0 0 0]\n",
      " [0 0 0 0 0 0 0 0 0 1 0 0 0 0]\n",
      " [0 0 0 0 0 0 0 0 0 0 0 0 0 0]\n",
      " [0 0 0 0 0 0 0 0 0 0 0 0 0 0]\n",
      " [0 0 0 0 0 0 0 0 0 0 0 0 0 0]\n",
      " [0 0 0 0 0 0 0 0 0 0 0 0 0 0]]\n",
      "\n",
      "\n",
      "[[0 0 0 0 0 0 0 0 0 0 0 0 0 0]\n",
      " [0 0 0 0 0 0 0 0 0 0 0 0 0 0]\n",
      " [0 0 0 0 0 0 0 0 0 0 0 0 0 0]\n",
      " [0 0 0 0 0 0 0 0 0 0 0 0 0 0]\n",
      " [0 0 0 0 0 0 0 0 0 0 0 0 0 0]\n",
      " [0 0 0 0 0 0 0 0 0 0 0 0 0 0]\n",
      " [0 0 0 0 0 0 0 0 0 0 0 0 0 0]\n",
      " [0 0 0 0 0 0 0 0 0 0 0 0 0 0]\n",
      " [0 0 0 0 0 0 0 0 0 0 0 0 0 0]\n",
      " [0 0 0 0 0 0 0 0 0 1 1 0 0 0]\n",
      " [0 0 0 0 0 0 0 0 0 0 0 0 0 0]\n",
      " [0 0 0 0 0 0 0 0 0 0 0 0 0 0]\n",
      " [0 0 0 0 0 0 0 0 0 0 0 0 0 0]\n",
      " [0 0 0 0 0 0 0 0 0 0 0 0 0 0]]\n",
      "\n",
      "\n",
      "[[0 0 0 0 0 0 0 0 0 0 0 0 0 0]\n",
      " [0 0 0 0 0 0 0 0 0 0 0 0 0 0]\n",
      " [0 0 0 0 0 0 0 0 0 0 0 0 0 0]\n",
      " [0 0 0 0 0 0 0 0 0 0 0 0 0 0]\n",
      " [0 0 0 0 0 0 0 0 0 0 0 0 0 0]\n",
      " [0 0 0 0 0 0 0 0 0 0 0 0 0 0]\n",
      " [0 0 0 0 0 0 0 0 0 0 0 0 0 0]\n",
      " [0 0 0 0 0 0 0 0 0 0 0 0 0 0]\n",
      " [0 0 0 0 0 0 0 0 0 0 0 0 0 0]\n",
      " [0 0 0 0 0 0 0 0 1 1 0 0 0 0]\n",
      " [0 0 0 0 0 0 0 0 0 0 0 0 0 0]\n",
      " [0 0 0 0 0 0 0 0 0 0 0 0 0 0]\n",
      " [0 0 0 0 0 0 0 0 0 0 0 0 0 0]\n",
      " [0 0 0 0 0 0 0 0 0 0 0 0 0 0]]\n",
      "\n",
      "\n",
      "[[0 0 0 0 0 0 0 0 0 0 0 0 0 0]\n",
      " [0 0 0 0 0 0 0 0 0 0 0 0 0 0]\n",
      " [0 0 0 0 0 0 0 0 0 0 0 0 0 0]\n",
      " [0 0 0 0 0 0 0 0 0 0 0 0 0 0]\n",
      " [0 0 0 0 0 0 0 0 0 0 0 0 0 0]\n",
      " [0 0 0 0 0 0 0 0 0 0 0 0 0 0]\n",
      " [0 0 0 0 0 0 0 0 0 0 0 0 0 0]\n",
      " [0 0 0 0 0 0 0 0 0 0 0 0 0 0]\n",
      " [0 0 0 0 0 0 0 0 0 0 0 0 0 0]\n",
      " [0 0 0 0 0 0 0 0 0 1 0 0 0 0]\n",
      " [0 0 0 0 0 0 0 0 0 1 1 0 0 0]\n",
      " [0 0 0 0 0 0 0 0 0 0 0 0 0 0]\n",
      " [0 0 0 0 0 0 0 0 0 0 0 0 0 0]\n",
      " [0 0 0 0 0 0 0 0 0 0 0 0 0 0]]\n",
      "\n",
      "\n",
      "[[0 0 0 0 0 0 0 0 0 0 0 0 0 0]\n",
      " [0 0 0 0 0 0 0 0 0 0 0 0 0 0]\n",
      " [0 0 0 0 0 0 0 0 0 0 0 0 0 0]\n",
      " [0 0 0 0 0 0 0 0 0 0 0 0 0 0]\n",
      " [0 0 0 0 0 0 0 0 0 0 0 0 0 0]\n",
      " [0 0 0 0 0 0 0 0 0 0 0 0 0 0]\n",
      " [0 0 0 0 0 0 0 0 0 0 0 0 0 0]\n",
      " [0 0 0 0 0 0 0 0 0 0 0 0 0 0]\n",
      " [0 0 0 0 0 0 0 0 0 1 0 0 0 0]\n",
      " [0 0 0 0 0 0 0 0 0 1 1 0 0 0]\n",
      " [0 0 0 0 0 0 0 0 0 0 0 0 0 0]\n",
      " [0 0 0 0 0 0 0 0 0 0 0 0 0 0]\n",
      " [0 0 0 0 0 0 0 0 0 0 0 0 0 0]\n",
      " [0 0 0 0 0 0 0 0 0 0 0 0 0 0]]\n",
      "\n",
      "\n",
      "[[0 0 0 0 0 0 0 0 0 0 0 0 0 0]\n",
      " [0 0 0 0 0 0 0 0 0 0 0 0 0 0]\n",
      " [0 0 0 0 0 0 0 0 0 0 0 0 0 0]\n",
      " [0 0 0 0 0 0 0 0 0 0 0 0 0 0]\n",
      " [0 0 0 0 0 0 0 0 0 0 0 0 0 0]\n",
      " [0 0 0 0 0 0 0 0 0 0 0 0 0 0]\n",
      " [0 0 0 0 0 0 0 0 0 0 0 0 0 0]\n",
      " [0 0 0 0 0 0 0 0 0 0 0 0 0 0]\n",
      " [0 0 0 0 0 0 0 0 1 0 0 0 0 0]\n",
      " [0 0 0 0 0 0 0 0 1 1 0 0 0 0]\n",
      " [0 0 0 0 0 0 0 0 0 0 0 0 0 0]\n",
      " [0 0 0 0 0 0 0 0 0 0 0 0 0 0]\n",
      " [0 0 0 0 0 0 0 0 0 0 0 0 0 0]\n",
      " [0 0 0 0 0 0 0 0 0 0 0 0 0 0]]\n",
      "\n",
      "\n",
      "[[0 0 0 0 0 0 0 0 0 0 0 0 0 0]\n",
      " [0 0 0 0 0 0 0 0 0 0 0 0 0 0]\n",
      " [0 0 0 0 0 0 0 0 0 0 0 0 0 0]\n",
      " [0 0 0 0 0 0 0 0 0 0 0 0 0 0]\n",
      " [0 0 0 0 0 0 0 0 0 0 0 0 0 0]\n",
      " [0 0 0 0 0 0 0 0 0 0 0 0 0 0]\n",
      " [0 0 0 0 0 0 0 0 0 0 0 0 0 0]\n",
      " [0 0 0 0 0 0 0 0 0 0 0 0 0 0]\n",
      " [0 0 0 0 0 0 0 0 0 0 0 0 0 0]\n",
      " [0 0 0 0 0 0 0 0 0 1 0 0 0 0]\n",
      " [0 0 0 0 0 0 0 0 1 1 0 0 0 0]\n",
      " [0 0 0 0 0 0 0 0 0 0 0 0 0 0]\n",
      " [0 0 0 0 0 0 0 0 0 0 0 0 0 0]\n",
      " [0 0 0 0 0 0 0 0 0 0 0 0 0 0]]\n",
      "\n",
      "\n",
      "[[0 0 0 0 0 0 0 0 0 0 0 0 0 0]\n",
      " [0 0 0 0 0 0 0 0 0 0 0 0 0 0]\n",
      " [0 0 0 0 0 0 0 0 0 0 0 0 0 0]\n",
      " [0 0 0 0 0 0 0 0 0 0 0 0 0 0]\n",
      " [0 0 0 0 0 0 0 0 0 0 0 0 0 0]\n",
      " [0 0 0 0 0 0 0 0 0 0 0 0 0 0]\n",
      " [0 0 0 0 0 0 0 0 0 0 0 0 0 0]\n",
      " [0 0 0 0 0 0 0 0 0 0 0 0 0 0]\n",
      " [0 0 0 0 0 0 0 0 0 0 1 0 0 0]\n",
      " [0 0 0 0 0 0 0 0 0 1 1 0 0 0]\n",
      " [0 0 0 0 0 0 0 0 0 0 0 0 0 0]\n",
      " [0 0 0 0 0 0 0 0 0 0 0 0 0 0]\n",
      " [0 0 0 0 0 0 0 0 0 0 0 0 0 0]\n",
      " [0 0 0 0 0 0 0 0 0 0 0 0 0 0]]\n",
      "\n",
      "\n"
     ]
    }
   ],
   "source": [
    "for a in game.initial_actions[1][:10]:\n",
    "    board.insert_piece(a, 1)\n",
    "    print(board._board_representation)\n",
    "    print(\"\\n\")\n",
    "    board = game.initialise_board()"
   ]
  },
  {
   "cell_type": "code",
   "execution_count": null,
   "id": "f62706f4-f5e3-4be0-badf-9a7e5a916226",
   "metadata": {},
   "outputs": [],
   "source": [
    "list(*(res[1][0]))"
   ]
  },
  {
   "cell_type": "code",
   "execution_count": null,
   "id": "340ff69b-868f-4d80-8678-9ef1639ebdf5",
   "metadata": {},
   "outputs": [],
   "source": [
    "for i, action in enumerate(res[1]):\n",
    "    print(action)\n",
    "    board.insert_piece()\n",
    "    if i >10:\n",
    "        break"
   ]
  },
  {
   "cell_type": "code",
   "execution_count": null,
   "id": "052364d3-c64e-4b1f-8001-7d34d4c7a34e",
   "metadata": {},
   "outputs": [],
   "source": [
    "board.board_representation"
   ]
  },
  {
   "cell_type": "code",
   "execution_count": null,
   "id": "afa73bd5-9ae8-41d4-98b3-2682e1232615",
   "metadata": {},
   "outputs": [],
   "source": [
    "%%time\n",
    "res = bdg._calculate_and_cache_initial_moves()"
   ]
  },
  {
   "cell_type": "code",
   "execution_count": null,
   "id": "d2d5a8fd-6496-4b7e-a068-3e19a9fb7dd8",
   "metadata": {},
   "outputs": [],
   "source": [
    "len(res[-1])"
   ]
  },
  {
   "cell_type": "code",
   "execution_count": null,
   "id": "13dc4252-fd28-4090-b91e-3a4fc0852ade",
   "metadata": {},
   "outputs": [],
   "source": [
    "len(res[1])"
   ]
  },
  {
   "cell_type": "code",
   "execution_count": null,
   "id": "97347e55",
   "metadata": {},
   "outputs": [],
   "source": [
    "len(bdg.initial_moves[1])"
   ]
  },
  {
   "cell_type": "code",
   "execution_count": null,
   "id": "5ac40ba8",
   "metadata": {},
   "outputs": [],
   "source": [
    "for k,v in piece_manager._piece_orientation_lookup.items():\n",
    "    print(k, v.basis)\n",
    "    break"
   ]
  },
  {
   "cell_type": "code",
   "execution_count": null,
   "id": "3528a910",
   "metadata": {},
   "outputs": [],
   "source": [
    "piece_id, piece in self._piece_orientation_lookup.items():"
   ]
  },
  {
   "cell_type": "code",
   "execution_count": null,
   "id": "7dd012f8",
   "metadata": {},
   "outputs": [],
   "source": [
    "%%time\n",
    "from pathlib import Path\n",
    "from blokusduo.pieces import Piece, Orientation, pieces_loader\n",
    "import json\n",
    "from dataclass_wizard import fromdict\n",
    "import numpy as np\n",
    "from blokusduo.game import CoordinateIndexDecoder\n",
    "\n",
    "f = Path(\"blokusduo\") / \"pieces.json\"\n",
    "piece_manager = pieces_loader(f)"
   ]
  },
  {
   "cell_type": "code",
   "execution_count": null,
   "id": "76556d96",
   "metadata": {},
   "outputs": [],
   "source": [
    "# For each piece, get all the basis_orientations. \n",
    "# For each piece-bo combo, see how many different x, y coordinates there are for the top left corner\n",
    "# Such that there is a 1 on the start piece."
   ]
  },
  {
   "cell_type": "code",
   "execution_count": null,
   "id": "585c0976",
   "metadata": {},
   "outputs": [],
   "source": [
    "n=14\n",
    "board = np.zeros(n ** 2, dtype=int).reshape(n, n)\n",
    "\n",
    "black_start = (4, 4)\n",
    "white_start = (9, 9)\n",
    "board[white_start] = 1\n",
    "board[black_start] = -1\n",
    "board"
   ]
  },
  {
   "cell_type": "code",
   "execution_count": null,
   "id": "143db205",
   "metadata": {},
   "outputs": [],
   "source": [
    "def try_fit_onto_start_corner(piece_id, piece, board, start) -> tuple[int, Orientation, int, int]:\n",
    "    # Think about this as iterating over the piece, moving the board the other way\n",
    "    # Want to return actions\n",
    "    length, width = piece.shape\n",
    "    for i in range(length):\n",
    "        for j in range(width):\n",
    "            if piece[(i, j)] ==1:\n",
    "                yield (start[0] - i, start[1] - j) \n",
    "            "
   ]
  },
  {
   "cell_type": "code",
   "execution_count": null,
   "id": "f5542aae",
   "metadata": {},
   "outputs": [],
   "source": [
    "piece_manager.pieces[14]"
   ]
  },
  {
   "cell_type": "code",
   "execution_count": null,
   "id": "4847ac54",
   "metadata": {},
   "outputs": [],
   "source": [
    "ans = []\n",
    "\n",
    "def gen_func():\n",
    "    for i in range(3):\n",
    "        yield i\n",
    "\n",
    "ans+= gen_func()\n",
    "ans += gen_func()\n",
    "\n",
    "ans"
   ]
  },
  {
   "cell_type": "code",
   "execution_count": null,
   "id": "2b281d0d",
   "metadata": {},
   "outputs": [],
   "source": [
    "ans =[]\n",
    "for k, v in piece_manager.pieces.items():\n",
    "    for o in v.basis_orientations:\n",
    "        ans+=try_fit_onto_start_corner(k, v, board, white_start)\n",
    "\n",
    "ans"
   ]
  },
  {
   "cell_type": "code",
   "execution_count": null,
   "id": "10778a21",
   "metadata": {},
   "outputs": [],
   "source": [
    "for thing in piece_manager.all_basis_orientations_arrays_for_piece(21):\n",
    "    print(thing)"
   ]
  },
  {
   "cell_type": "code",
   "execution_count": null,
   "id": "49417add",
   "metadata": {},
   "outputs": [],
   "source": [
    "for k, v in piece_manager.pieces.items():\n",
    "    print(k, v)\n",
    "    break"
   ]
  },
  {
   "cell_type": "code",
   "execution_count": null,
   "id": "87c81488",
   "metadata": {},
   "outputs": [],
   "source": [
    "n=14\n",
    "board = np.zeros(n ** 2, dtype=int).reshape(n, n)\n",
    "\n",
    "black_start = (4, 4)\n",
    "white_start = (9, 9)\n",
    "board[white_start] = 1\n",
    "board[black_start] = -1\n",
    "board"
   ]
  },
  {
   "cell_type": "code",
   "execution_count": null,
   "id": "7b543892",
   "metadata": {},
   "outputs": [],
   "source": [
    "piece.basis_orientations"
   ]
  },
  {
   "cell_type": "code",
   "execution_count": null,
   "id": "cb2f6dd1",
   "metadata": {},
   "outputs": [],
   "source": [
    "piece = piece_manager.pieces[4]"
   ]
  },
  {
   "cell_type": "code",
   "execution_count": null,
   "id": "da3b712b",
   "metadata": {},
   "outputs": [],
   "source": [
    "np.sum([ v.identity.sum() for k, v  in piece_manager.pieces.items()])"
   ]
  },
  {
   "cell_type": "code",
   "execution_count": null,
   "id": "bd3352a3",
   "metadata": {},
   "outputs": [],
   "source": [
    "\n",
    "\n",
    "action = [14, \"Identity\", 9, 4]\n",
    "\n",
    "length_idx = n-1 - action[3]\n",
    "width_idx = action[2]\n",
    "\n",
    "piece_shape = piece_manager.get_piece_with_orientation(action[0], action[1])\n",
    "piece"
   ]
  },
  {
   "cell_type": "code",
   "execution_count": null,
   "id": "ac587e7f",
   "metadata": {},
   "outputs": [],
   "source": [
    "length, width = piece_shape.shape\n",
    "for i in range(length):\n",
    "    for j in range(width):\n",
    "        board[length_idx + i, width_idx + j] = piece_shape[i, j]\n",
    "\n",
    "board"
   ]
  },
  {
   "cell_type": "code",
   "execution_count": null,
   "id": "c172fca7",
   "metadata": {},
   "outputs": [],
   "source": [
    "board"
   ]
  },
  {
   "cell_type": "code",
   "execution_count": null,
   "id": "526112bc",
   "metadata": {},
   "outputs": [],
   "source": [
    "import numpy as np\n",
    "n = 14\n",
    "\n",
    "x, y = 4, 5\n",
    "\n",
    "\n",
    "board[(4, 4)] = -1\n",
    "board[(9, 9)] = 1\n",
    "\n",
    "board"
   ]
  },
  {
   "cell_type": "code",
   "execution_count": null,
   "id": "82508ec3",
   "metadata": {},
   "outputs": [],
   "source": [
    "pi = np.random.rand(\n",
    "    14*14*91 + 1\n",
    ")\n",
    "\n",
    "moves = pi[:-1]\n",
    "\n",
    "moves.reshape((14, 14, 91))[:, :, 3].shape"
   ]
  },
  {
   "cell_type": "code",
   "execution_count": null,
   "id": "90c28543",
   "metadata": {},
   "outputs": [],
   "source": [
    "type([:, :, 3])"
   ]
  },
  {
   "cell_type": "code",
   "execution_count": null,
   "id": "d5d4efe6",
   "metadata": {},
   "outputs": [],
   "source": [
    "action = 1, 3, 39\n",
    "\n",
    "type(action)"
   ]
  },
  {
   "cell_type": "code",
   "execution_count": null,
   "id": "318868b9",
   "metadata": {},
   "outputs": [],
   "source": [
    "pieces[0].identity.dtype"
   ]
  },
  {
   "cell_type": "code",
   "execution_count": null,
   "id": "4aaa8b4e",
   "metadata": {},
   "outputs": [],
   "source": [
    "len(pieces)"
   ]
  },
  {
   "cell_type": "code",
   "execution_count": null,
   "id": "7e4f8c8b",
   "metadata": {},
   "outputs": [],
   "source": [
    "from collections import deque\n",
    "\n",
    "d = deque()\n",
    "\n",
    "for p in pieces:\n",
    "    d.append(p)\n"
   ]
  },
  {
   "cell_type": "code",
   "execution_count": null,
   "id": "dfa0247d",
   "metadata": {},
   "outputs": [],
   "source": [
    "len(d)"
   ]
  },
  {
   "cell_type": "code",
   "execution_count": null,
   "id": "046ac192",
   "metadata": {},
   "outputs": [],
   "source": [
    "d.popleft()"
   ]
  },
  {
   "cell_type": "code",
   "execution_count": null,
   "id": "cbe2c84b",
   "metadata": {},
   "outputs": [],
   "source": [
    "import numpy as np\n",
    "\n",
    "bored = np.array([\n",
    "    [0, 0, 0, 0],\n",
    "    [0, -1, 0, 0],\n",
    "    [0, 0, 1, 0],\n",
    "    [0, 0, 0, 0],\n",
    "]\n",
    ")"
   ]
  },
  {
   "cell_type": "code",
   "execution_count": null,
   "id": "34a9eeb9",
   "metadata": {},
   "outputs": [],
   "source": [
    "white_pieces = np.array([[1, 1, 1, 1]]).reshape(-1, 1)\n",
    "black_pieces = -1*np.array([[1, 1, 1, 1]]).reshape(-1, 1)"
   ]
  },
  {
   "cell_type": "code",
   "execution_count": null,
   "id": "76e28dc0",
   "metadata": {},
   "outputs": [],
   "source": [
    "np.zeros(2 * n).reshape(n, 2).dtype"
   ]
  },
  {
   "cell_type": "code",
   "execution_count": null,
   "id": "b0810ec7",
   "metadata": {},
   "outputs": [],
   "source": [
    "import numpy as np\n",
    "\n",
    "n = 14\n",
    "\n",
    "np.zeros(2 * n).astype(int).reshape(n, 2).dtype"
   ]
  },
  {
   "cell_type": "code",
   "execution_count": null,
   "id": "3b2ad3b0",
   "metadata": {},
   "outputs": [],
   "source": [
    "res = np.concatenate((white_pieces, bored), axis=1)"
   ]
  },
  {
   "cell_type": "code",
   "execution_count": null,
   "id": "05b395f7",
   "metadata": {},
   "outputs": [],
   "source": [
    "res"
   ]
  },
  {
   "cell_type": "code",
   "execution_count": null,
   "id": "ebdd6e7f",
   "metadata": {},
   "outputs": [],
   "source": [
    "res.size"
   ]
  },
  {
   "cell_type": "code",
   "execution_count": null,
   "id": "4161f32b",
   "metadata": {},
   "outputs": [],
   "source": [
    "res[res == -1].size"
   ]
  },
  {
   "cell_type": "code",
   "execution_count": null,
   "id": "1bd48d98",
   "metadata": {},
   "outputs": [],
   "source": [
    "pieces[:10]"
   ]
  },
  {
   "cell_type": "code",
   "execution_count": null,
   "id": "32c6eb89",
   "metadata": {},
   "outputs": [],
   "source": [
    "np.concatenate((res, black_pieces), axis=1)"
   ]
  },
  {
   "cell_type": "code",
   "execution_count": null,
   "id": "c344a88a",
   "metadata": {},
   "outputs": [],
   "source": [
    "white_pieces.reshape(-1, 1)"
   ]
  },
  {
   "cell_type": "code",
   "execution_count": null,
   "id": "af50e3d2",
   "metadata": {},
   "outputs": [],
   "source": [
    "bored"
   ]
  },
  {
   "cell_type": "code",
   "execution_count": null,
   "id": "3c7dbece",
   "metadata": {},
   "outputs": [],
   "source": [
    "np.rot90(np.flip(bored, 1), 3)"
   ]
  },
  {
   "cell_type": "code",
   "execution_count": null,
   "id": "5e63e324",
   "metadata": {},
   "outputs": [],
   "source": [
    "pieces[20].identity"
   ]
  },
  {
   "cell_type": "code",
   "execution_count": null,
   "id": "5f3ee303",
   "metadata": {},
   "outputs": [],
   "source": [
    "pieces[20].rot90"
   ]
  },
  {
   "cell_type": "code",
   "execution_count": null,
   "id": "df904eb5",
   "metadata": {},
   "outputs": [],
   "source": [
    "pieces[0].identity.tobytes()"
   ]
  },
  {
   "cell_type": "code",
   "execution_count": null,
   "id": "5c612ea6",
   "metadata": {},
   "outputs": [],
   "source": [
    "from main import args"
   ]
  },
  {
   "cell_type": "code",
   "execution_count": null,
   "id": "3709730e",
   "metadata": {},
   "outputs": [],
   "source": [
    "# How to change args\n",
    "from main import args\n",
    "from dataclass_wizard import fromdict, asdict\n",
    "from core.config import RunConfig\n",
    "\n",
    "# d = asdict(args)\n",
    "# d[\"runName\"] = \"full_run_because_why_not_1\"\n",
    "# new_args = fromdict(RunConfig, d)"
   ]
  },
  {
   "cell_type": "code",
   "execution_count": null,
   "id": "1074f9ef",
   "metadata": {},
   "outputs": [],
   "source": [
    "action_size = 14, 14, 91\n",
    "action_size "
   ]
  },
  {
   "cell_type": "code",
   "execution_count": null,
   "id": "4aeee6b9",
   "metadata": {},
   "outputs": [],
   "source": [
    "14*14*91 + 1, 14*14*92"
   ]
  },
  {
   "cell_type": "code",
   "execution_count": null,
   "id": "04cac1a2",
   "metadata": {},
   "outputs": [],
   "source": [
    "import math\n",
    "\n",
    "math.prod(action_size)"
   ]
  },
  {
   "cell_type": "markdown",
   "id": "57c751dd",
   "metadata": {},
   "source": [
    "## Check Nets"
   ]
  },
  {
   "cell_type": "code",
   "execution_count": null,
   "id": "6b0264f0",
   "metadata": {},
   "outputs": [],
   "source": [
    "from core.config import NetConfig\n",
    "NetConfig?"
   ]
  },
  {
   "cell_type": "code",
   "execution_count": null,
   "id": "d6a421f8",
   "metadata": {},
   "outputs": [],
   "source": [
    "from blokusduo.neuralnets.net import AlphaBlokusDuo\n",
    "from tictactoe.neuralnets.net import AlphaTicTacToe\n",
    "from tictactoe.game import TicTacToeGame as game\n",
    "from core.config import NetConfig\n",
    "import torch \n",
    "from torchviz import make_dot\n",
    "\n",
    "cfg = NetConfig(0.001,0.3,10,32,True,512, 19)\n",
    "g = game(3)\n",
    "\n",
    "bd_net = AlphaBlokusDuo(cfg)\n",
    "ttt_net = AlphaTicTacToe(g, cfg)"
   ]
  },
  {
   "cell_type": "code",
   "execution_count": null,
   "id": "2a31d7cb",
   "metadata": {},
   "outputs": [],
   "source": [
    "sum(p.numel() for p in bd_net.parameters())/1e6 "
   ]
  },
  {
   "cell_type": "code",
   "execution_count": null,
   "id": "f4a3c90a",
   "metadata": {},
   "outputs": [],
   "source": [
    "sum(p.numel() for p in ttt_net.parameters())/1e6 "
   ]
  },
  {
   "cell_type": "code",
   "execution_count": null,
   "id": "cf516ba6",
   "metadata": {},
   "outputs": [],
   "source": [
    "bd_net.parameters"
   ]
  },
  {
   "cell_type": "code",
   "execution_count": null,
   "id": "e62f7b73",
   "metadata": {},
   "outputs": [],
   "source": [
    "bd_input = torch.rand(2*14*18).reshape(-1, 14, 18)\n",
    "ttt_input = torch.rand(2*3*3).reshape(-1, 3, 3)"
   ]
  },
  {
   "cell_type": "code",
   "execution_count": null,
   "id": "1a8e2eae",
   "metadata": {},
   "outputs": [],
   "source": [
    "bd_res = bd_net(bd_input)\n",
    "ttt_res = ttt_net(ttt_input)"
   ]
  },
  {
   "cell_type": "code",
   "execution_count": null,
   "id": "7202bc48",
   "metadata": {},
   "outputs": [],
   "source": [
    "make_dot(ttt_res, params=dict(list(ttt_net.named_parameters()))).render(\"ttt_torchviz\", format=\"png\")\n",
    "make_dot(bd_res, params=dict(list(bd_net.named_parameters()))).render(\"bd_torchviz\", format=\"png\")"
   ]
  },
  {
   "cell_type": "code",
   "execution_count": null,
   "id": "27fb8d0a",
   "metadata": {},
   "outputs": [],
   "source": [
    "len(ttt_res[0]), len(bd_res[0])"
   ]
  },
  {
   "cell_type": "code",
   "execution_count": null,
   "id": "e14dbafb",
   "metadata": {},
   "outputs": [],
   "source": [
    "ttt_res[0].shape"
   ]
  },
  {
   "cell_type": "code",
   "execution_count": null,
   "id": "17eb6da9",
   "metadata": {},
   "outputs": [],
   "source": [
    "bd_res[1].shape, ttt_res[1].shape"
   ]
  },
  {
   "cell_type": "code",
   "execution_count": null,
   "id": "6943862f",
   "metadata": {},
   "outputs": [],
   "source": []
  },
  {
   "cell_type": "code",
   "execution_count": null,
   "id": "d8a19bce",
   "metadata": {},
   "outputs": [],
   "source": [
    "import os\n",
    "\n",
    "os.environ[\"PATH\"]"
   ]
  },
  {
   "cell_type": "code",
   "execution_count": null,
   "id": "9a466ae9",
   "metadata": {},
   "outputs": [],
   "source": [
    "res[0].shape"
   ]
  },
  {
   "cell_type": "code",
   "execution_count": null,
   "id": "09895ea9",
   "metadata": {},
   "outputs": [],
   "source": [
    "14*14*95"
   ]
  },
  {
   "cell_type": "code",
   "execution_count": null,
   "id": "b855c10f",
   "metadata": {},
   "outputs": [],
   "source": [
    "torch.prod(torch.tensor(action_size))"
   ]
  },
  {
   "cell_type": "code",
   "execution_count": null,
   "id": "4c3faa20",
   "metadata": {},
   "outputs": [],
   "source": [
    "import torch \n",
    "\n",
    "torch.rand(torch.prod(action_size)).shape"
   ]
  },
  {
   "cell_type": "code",
   "execution_count": null,
   "id": "b2002d88",
   "metadata": {},
   "outputs": [],
   "source": [
    "import numpy as np\n",
    "\n",
    "output = np.random.rand(np.prod(action_size))\n",
    "output.reshape(action_size).shape"
   ]
  },
  {
   "cell_type": "code",
   "execution_count": null,
   "id": "12818a43",
   "metadata": {},
   "outputs": [],
   "source": [
    "16*16 -14*14"
   ]
  },
  {
   "cell_type": "code",
   "execution_count": null,
   "id": "d27aa89a",
   "metadata": {},
   "outputs": [],
   "source": [
    "s = 0\n",
    "for p in pieces:\n",
    "    s += p.symmetry\n",
    "s"
   ]
  },
  {
   "cell_type": "code",
   "execution_count": null,
   "id": "8cc34ef7",
   "metadata": {},
   "outputs": [],
   "source": [
    "len(pieces)"
   ]
  },
  {
   "cell_type": "code",
   "execution_count": null,
   "id": "d1751aac",
   "metadata": {},
   "outputs": [],
   "source": [
    "pieces"
   ]
  },
  {
   "cell_type": "markdown",
   "id": "1e09e389",
   "metadata": {},
   "source": [
    "# Plot data"
   ]
  },
  {
   "cell_type": "code",
   "execution_count": null,
   "id": "4599f961",
   "metadata": {},
   "outputs": [],
   "source": [
    "import plotly.io as pio\n",
    "from pickle import Pickler, Unpickler\n",
    "from pathlib import Path\n",
    "import os \n",
    "import pandas as pd\n",
    "import plotly_express as px\n",
    "from plotly import graph_objects as go\n",
    "from plotly.subplots import make_subplots\n",
    "from matplotlib import pyplot as plt\n",
    "\n",
    "pio.renderers.default = 'jupyterlab'"
   ]
  },
  {
   "cell_type": "markdown",
   "id": "4898a696",
   "metadata": {},
   "source": [
    "## Report Generation"
   ]
  },
  {
   "cell_type": "markdown",
   "id": "a6a86ad2",
   "metadata": {},
   "source": [
    "## Read data"
   ]
  },
  {
   "cell_type": "code",
   "execution_count": null,
   "id": "f2316d79",
   "metadata": {},
   "outputs": [],
   "source": [
    "%%time\n",
    "import os\n",
    "\n",
    "# Training data\n",
    "data_root = args.training_data_directory\n",
    "\n",
    "run_completed = False\n",
    "\n",
    "if not run_completed:\n",
    "    filenames = [f for f in os.listdir(data_root) if \"train\" in f]  \n",
    "    \n",
    "    print(filenames)\n",
    "    \n",
    "    def loader(data_root: Path, filename: str):\n",
    "        with open(data_root / filename, \"rb\") as f: \n",
    "            data = Unpickler(f).load()\n",
    "        return pd.DataFrame(data)\n",
    "    \n",
    "    \n",
    "    ds = [loader(data_root, f) for f in filenames]\n",
    "    df = pd.concat(ds, copy=False).assign(average_loss = lambda df: df.average_pi_loss + df.average_v_loss)\n",
    "else:\n",
    "    df = pd.read_parquet(data_root / \"data.parquet\")"
   ]
  },
  {
   "cell_type": "code",
   "execution_count": null,
   "id": "2d163e46",
   "metadata": {},
   "outputs": [],
   "source": [
    "# Arena data\n",
    "ad = pd.read_parquet(args.arena_data_directory)"
   ]
  },
  {
   "cell_type": "code",
   "execution_count": null,
   "id": "62a0029e",
   "metadata": {},
   "outputs": [],
   "source": [
    "# Timings\n",
    "\n",
    "td = pd.read_parquet(args.timings_directory)"
   ]
  },
  {
   "cell_type": "code",
   "execution_count": null,
   "id": "66277686",
   "metadata": {},
   "outputs": [],
   "source": [
    "td[td.cycle_stage == \"WholeCycle\"].time_elapsed.sum() / 60 "
   ]
  },
  {
   "cell_type": "code",
   "execution_count": null,
   "id": "e8d96755",
   "metadata": {},
   "outputs": [],
   "source": [
    "td.reset_index().apply(lambda df: type(df))"
   ]
  },
  {
   "cell_type": "code",
   "execution_count": null,
   "id": "597b164c",
   "metadata": {},
   "outputs": [],
   "source": [
    "td.columns"
   ]
  },
  {
   "cell_type": "code",
   "execution_count": null,
   "id": "45bdfcbb",
   "metadata": {},
   "outputs": [],
   "source": [
    "td.reset_index().apply(lambda df: df[df.cycle_stage == \"WholeCycle\"])"
   ]
  },
  {
   "cell_type": "code",
   "execution_count": null,
   "id": "ebc9e07c",
   "metadata": {},
   "outputs": [],
   "source": [
    "from pandas import DataFrame\n",
    "\n",
    "def make_loss_curves(df: DataFrame) -> tuple[go.Figure]:\n",
    "    \n",
    "    df_plot = df.sort_values([\"generation\", \"epoch\", \"batch_number\"]).astype({\"epoch\": \"category\", \"generation\": \"category\"})\n",
    "    agg_df_plot = df_plot.groupby(\"generation\").agg({\"average_loss\": \"last\"}).reset_index()\n",
    "    \n",
    "    fig1 = px.line(\n",
    "        agg_df_plot, x=\"generation\", y=\"average_loss\" \n",
    "    )\n",
    "\n",
    "    fig2 = px.scatter(\n",
    "        df_plot, x=\"batch_number\", y=\"average_loss\", color=\"epoch\", hover_data =[\"generation\"],\n",
    "        labels={\"x\": \"Batch Number\", \"y\": \"Average Loss\"}\n",
    "    )\n",
    "\n",
    "    fig1.update_layout(\n",
    "        width=1200, \n",
    "        height=600,\n",
    "        xaxis_title=\"Generation\",\n",
    "        yaxis_title=\"Average Loss\", \n",
    "        title=\"Average Total Pi And V Loss per Generation\",\n",
    "    )\n",
    "\n",
    "    fig2.update_traces(marker_size=2)\n",
    "    fig2.update_layout(\n",
    "        width=1200,\n",
    "        height=600, \n",
    "        yaxis_title=\"Average Loss\",\n",
    "        xaxis_title=\"Batch Number\",\n",
    "        title=\"Average Total Pi And V Loss As A Function Of Batch Number For Each Generation And Epoch\",\n",
    "    )\n",
    "    \n",
    "    return fig1, fig2\n",
    "\n",
    "def make_arena_data_plot(arena_data: pd.DataFrame) -> go.Figure:\n",
    "    arena_data = arena_data.assign(**{\n",
    "        \"Percentage Losses\": lambda df: 100*df.losses/ (df.wins + df.losses + df.draws),\n",
    "        \"Percentage Wins\": lambda df: 100*df.wins/ (df.wins + df.losses + df.draws)\n",
    "    }).sort_values([\"generation\"]).astype({\"generation\": \"category\"})\n",
    "    \n",
    "    fig = px.bar(\n",
    "        arena_data, x= \"generation\", y=[\"Percentage Wins\", \"Percentage Losses\"], labels={\"x\": \"Generation\", \"y\": \"Percentage Value\"}\n",
    "    )\n",
    "\n",
    "    fig.update_layout(\n",
    "        width=1200,\n",
    "        height=600, \n",
    "        yaxis_title=\"Percentage Value\",\n",
    "        xaxis_title=\"Generation\",\n",
    "        title=\"Win & Loss Rate Of New Net Against Predecessor\",\n",
    "    )\n",
    "    fig.update_yaxes(range=[0, 100])\n",
    "    return fig\n",
    "\n",
    "\n",
    "def make_performance_statistics_plot(timings_data: pd.DataFrame) -> go.Figure:\n",
    "    cycles = df.cycle_stage.unique()\n",
    "    fig = make_subplots(cols=len(cycles), shared_yaxes=True, subplot_titles=cycles, x_title=\"Generation\", y_title=\"Time Elapsed / S\")\n",
    "    \n",
    "    for i, cycle in enumerate(cycles):\n",
    "        filt = lambda df: df.cycle_stage == cycle\n",
    "        fig.add_trace(\n",
    "            go.Bar(\n",
    "                x= df[filt][\"generation\"], y = df[filt][\"time_elapsed\"], name=cycle\n",
    "            ), row=1, col=i+1\n",
    "        )\n",
    "        \n",
    "    \n",
    "    fig.update_layout(height=600, width=1200,\n",
    "                      title_text=f\"Performance Statistics For run\")\n",
    "    \n",
    "    return fig"
   ]
  },
  {
   "cell_type": "code",
   "execution_count": null,
   "id": "2da5bc5b",
   "metadata": {},
   "outputs": [],
   "source": [
    "args.training_data_directory"
   ]
  },
  {
   "cell_type": "code",
   "execution_count": null,
   "id": "a95d904e",
   "metadata": {},
   "outputs": [],
   "source": [
    "args.run_name"
   ]
  },
  {
   "cell_type": "code",
   "execution_count": null,
   "id": "c17a2d27",
   "metadata": {},
   "outputs": [],
   "source": [
    "def create_html_report(args):\n",
    "    loss_data = pd.read_parquet(args.training_data_directory / \"data.parquet\")\n",
    "    arena_data = pd.read_parquet(args.arena_data_directory)\n",
    "    timings_data = pd.read_parquet(args.timings_directory)\n",
    "\n",
    "    fig1, fig2 = make_loss_curves(loss_data)\n",
    "    fig3 = make_arena_data_plot(arena_data)\n",
    "    fig4 = make_performance_statistics_plot(timings_data)\n",
    "\n",
    "    with open('tmp.html', 'w') as f:\n",
    "        f.write(fr\"\"\"\n",
    "            <html><head><title> Output Data in an HTML file \\ \n",
    "            </title></head><body><h1> <u>AlphaBlokus</u> Report </h1> \n",
    "            <h2>For run: '{args.run_name}' </h2> </body></html>\"\"\"\n",
    "               ) \n",
    "        f.write(fig1.to_html(full_html=False, include_plotlyjs='cdn'))\n",
    "        f.write(fig2.to_html(full_html=False, include_plotlyjs='cdn'))\n",
    "        f.write(fig3.to_html(full_html=False, include_plotlyjs='cdn'))\n",
    "        f.write(fig4.to_html(full_html=False, include_plotlyjs='cdn'))\n",
    "\n"
   ]
  },
  {
   "cell_type": "code",
   "execution_count": null,
   "id": "f6847bec",
   "metadata": {},
   "outputs": [],
   "source": [
    "%%time\n",
    "\n",
    "create_html_report(args)"
   ]
  },
  {
   "cell_type": "markdown",
   "id": "4097eaab",
   "metadata": {},
   "source": [
    "## Performance Statistics"
   ]
  },
  {
   "cell_type": "code",
   "execution_count": null,
   "id": "bcda2037",
   "metadata": {},
   "outputs": [],
   "source": [
    "root = args.timings_directory\n",
    "df = pd.read_parquet(root / \"timings.parquet\")\n"
   ]
  },
  {
   "cell_type": "code",
   "execution_count": null,
   "id": "095a4e38",
   "metadata": {},
   "outputs": [],
   "source": [
    "make_performance_statistics_plot(df)"
   ]
  },
  {
   "cell_type": "code",
   "execution_count": null,
   "id": "b6c7c3a8",
   "metadata": {},
   "outputs": [],
   "source": [
    "print(\n",
    "    f\"Total time elapsed: {df[df.cycle_stage == \"WholeCycle\"].time_elapsed.sum()/60} Minutes!\"\n",
    ")"
   ]
  },
  {
   "cell_type": "markdown",
   "id": "d49a003b",
   "metadata": {},
   "source": [
    "## Window Size"
   ]
  },
  {
   "cell_type": "code",
   "execution_count": null,
   "id": "7a9b8c6a",
   "metadata": {},
   "outputs": [],
   "source": [
    "import numpy as np\n",
    "def _generation_window_size(max_value, generation: int) -> int:\n",
    "    # Dynamically adjusted window size for generation lookback\n",
    "    # To get window size, I've fit the line:\n",
    "    # y = a*x + b to the points (x=0, y=5) and (x=2*max_window_size, y=max_window_size)\n",
    "    # This allows a good combination of forgetting earlier games but retaining good memory as iterations go on\n",
    "\n",
    "    if generation <= 5:\n",
    "        return 5\n",
    "    max_val = max_value\n",
    "\n",
    "    if 2 * max_val > generation:\n",
    "        return round(generation * (max_val - 5) / (2 * max_val) + 5)\n",
    "\n",
    "    return max_val\n",
    "\n",
    "x = np.arange(30)\n",
    "y = [_generation_window_size(15, i) for i in x]\n",
    "\n",
    "px.scatter(x=x, y=y)"
   ]
  },
  {
   "cell_type": "markdown",
   "id": "6806100c",
   "metadata": {},
   "source": [
    "##  Playing The Net"
   ]
  },
  {
   "cell_type": "code",
   "execution_count": null,
   "id": "5b0c2e98",
   "metadata": {},
   "outputs": [],
   "source": [
    "%%time\n",
    "from core.coach import Coach\n",
    "from pathlib import Path\n",
    "from core.config import RunConfig, NetConfig, MCTSConfig\n",
    "from tictactoe.tictactoegame import TicTacToeGame as Game\n",
    "from tictactoe.neuralnets.wrapper import NNetWrapper\n",
    "from main import args\n",
    "from core.mcts import MCTS\n",
    "\n",
    "import numpy as np\n",
    "\n",
    "g = Game(3)\n",
    "nnet = NNetWrapper(g, args)\n",
    "c = Coach(g, nnet, args)"
   ]
  },
  {
   "cell_type": "markdown",
   "id": "ddeac2f5",
   "metadata": {},
   "source": [
    "# Play a game"
   ]
  },
  {
   "cell_type": "code",
   "execution_count": null,
   "id": "60aa8bff",
   "metadata": {},
   "outputs": [],
   "source": [
    "# Load in bot to play\n",
    "nnet.load_checkpoint(filename='best.pth.tar')\n",
    "computer = MCTS(g, nnet, args.mcts_config)\n",
    "computer_player = lambda x: np.argmax(computer.get_action_prob(x, temp=0))"
   ]
  },
  {
   "cell_type": "code",
   "execution_count": null,
   "id": "b0cb28f1",
   "metadata": {},
   "outputs": [],
   "source": [
    "# Create human player interface\n",
    "\n",
    "class HumanTicTacToePlayer:\n",
    "    def __init__(self, game):\n",
    "        self.game = game\n",
    "\n",
    "    def play(self, board):\n",
    "        display(board)\n",
    "        valid = self.game.get_valid_moves(board, 1)\n",
    "        print (f\"Valid moves: {np.where(valid==1)}\")\n",
    "        \n",
    "        while True:\n",
    "            input_move = input()\n",
    "            a = int(input_move)\n",
    "            if a > -1 and a < 11:\n",
    "                return a\n",
    "            else:\n",
    "                raise ValueError(f\"Must be integer in range (0, 10), {a} is out of range\")\n",
    "        return a\n",
    "\n",
    "human = HumanTicTacToePlayer(g)"
   ]
  },
  {
   "cell_type": "code",
   "execution_count": null,
   "id": "8aaf296d",
   "metadata": {},
   "outputs": [],
   "source": [
    "from core.arena import Arena\n",
    "from IPython.display import display\n",
    "\n",
    "arena = Arena(human.play, computer_player, g, display=display)"
   ]
  },
  {
   "cell_type": "code",
   "execution_count": null,
   "id": "90acdc0c",
   "metadata": {},
   "outputs": [],
   "source": [
    "# Run this cell to play against the computer\n",
    "\n",
    "arena.play_game(verbose=True)"
   ]
  },
  {
   "cell_type": "markdown",
   "id": "a7c30aad",
   "metadata": {},
   "source": [
    "### Try and read in examples"
   ]
  },
  {
   "cell_type": "code",
   "execution_count": null,
   "id": "9b8859b6",
   "metadata": {},
   "outputs": [],
   "source": [
    "from pickle import Pickler, Unpickler\n",
    "from pathlib import Path\n",
    "import os"
   ]
  },
  {
   "cell_type": "code",
   "execution_count": null,
   "id": "798e90d8",
   "metadata": {},
   "outputs": [],
   "source": [
    "%%time\n",
    "with open(args.self_play_history_directory / \"self_play_history_29.pickle\", \"rb\") as f:\n",
    "    examples = Unpickler(f).load()"
   ]
  },
  {
   "cell_type": "code",
   "execution_count": null,
   "id": "ef9fed70",
   "metadata": {},
   "outputs": [],
   "source": [
    "import pandas as pd\n",
    "from pathlib import Path\n",
    "\n",
    "p = Path(r'C:\\Users\\Henry\\PycharmProjects\\Alpha\\temp\\test_run\\TrainingData')\n",
    "\n",
    "def loader(filepath: Path):\n",
    "    with open(filepath, \"rb\") as f:\n",
    "        data = Unpickler(f).load()\n",
    "    return pd.DataFrame(data)\n",
    "\n",
    "df = loader(p / \"train_1.data\")"
   ]
  },
  {
   "cell_type": "code",
   "execution_count": null,
   "id": "c3ed2967",
   "metadata": {},
   "outputs": [],
   "source": [
    "df.pi_loss.astype(float)"
   ]
  },
  {
   "cell_type": "code",
   "execution_count": null,
   "id": "6f492fb6",
   "metadata": {},
   "outputs": [],
   "source": [
    "pd.read_parquet(p / \"data.parquet\")"
   ]
  }
 ],
 "metadata": {
  "kernelspec": {
   "display_name": "Alpha",
   "language": "python",
   "name": "alpha"
  },
  "language_info": {
   "codemirror_mode": {
    "name": "ipython",
    "version": 3
   },
   "file_extension": ".py",
   "mimetype": "text/x-python",
   "name": "python",
   "nbconvert_exporter": "python",
   "pygments_lexer": "ipython3",
   "version": "3.12.8"
  }
 },
 "nbformat": 4,
 "nbformat_minor": 5
}
